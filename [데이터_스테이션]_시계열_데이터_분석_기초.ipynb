{
  "nbformat": 4,
  "nbformat_minor": 0,
  "metadata": {
    "colab": {
      "name": "[데이터 스테이션] 시계열 데이터 분석 기초.ipynb",
      "provenance": [],
      "collapsed_sections": [],
      "mount_file_id": "1sC-9GOP1pj2h28VENaPA9G4yDGLMdLKX",
      "authorship_tag": "ABX9TyM5ngOWR/dMMx/Hs0XJMTLA",
      "include_colab_link": true
    },
    "kernelspec": {
      "name": "python3",
      "display_name": "Python 3"
    }
  },
  "cells": [
    {
      "cell_type": "markdown",
      "metadata": {
        "id": "view-in-github",
        "colab_type": "text"
      },
      "source": [
        "<a href=\"https://colab.research.google.com/github/dianakang/DIANA_TimeSeries/blob/master/%5B%EB%8D%B0%EC%9D%B4%ED%84%B0_%EC%8A%A4%ED%85%8C%EC%9D%B4%EC%85%98%5D_%EC%8B%9C%EA%B3%84%EC%97%B4_%EB%8D%B0%EC%9D%B4%ED%84%B0_%EB%B6%84%EC%84%9D_%EA%B8%B0%EC%B4%88.ipynb\" target=\"_parent\"><img src=\"https://colab.research.google.com/assets/colab-badge.svg\" alt=\"Open In Colab\"/></a>"
      ]
    },
    {
      "cell_type": "markdown",
      "metadata": {
        "id": "CHROxeEd_s-k"
      },
      "source": [
        "\n",
        "\n",
        "*   **수요 예측(Forecast)**\n",
        "  *   **정성적 기법**\n",
        "\n",
        "  : 개인의 지혜나 주관을 바탕으로 예측하는 것\n",
        "\n",
        "  : 시장조사법 / 델파이방법 / 비교유추법 \n",
        "  *   **정성적 기법**\n",
        "\n",
        "  : 데이터가 확보되어 있을 때 사용하는 기법 (객관성)\n",
        "\n",
        "  : 시계열모형 / 인과모형 / 성장 곡선 모형\n",
        "\n",
        "\n"
      ]
    },
    {
      "cell_type": "markdown",
      "metadata": {
        "id": "T68NThMaEL5t"
      },
      "source": [
        "# **1. 시계열 분석(Time Series)**"
      ]
    },
    {
      "cell_type": "markdown",
      "metadata": {
        "id": "Ir1zEsy1ES9s"
      },
      "source": [
        ": 수요량, 판매량, 주가 등 시간에 따른 변화를 예측하는 모델\n",
        "\n",
        ": 시간에 따른 하나의 연속형 데이터(y)의 추세(trend)를 추적하는 기법\n",
        "\n",
        "-> '시간' 데이터가 반드시 들어간다.\n",
        "\n",
        "*   Lag : 특정 간격을 갖는 시간\n",
        "\n",
        "*   Trend : 추세\n",
        "\n",
        "*   Seasonality : 계절성\n",
        "\n",
        "*   Cycle : 주기\n",
        "\n",
        "*   Noise : 잡음 / 독립적인 데이터 \n",
        "\n",
        "  -> whitenoise(분석가능한 잡음)\n",
        "\n",
        "---\n",
        "\n",
        "\n",
        "통계적으로 기술이 가능한 데이터, 즉 whitenoise 범주안에 드는 데이터를 분석하는 것을 시계열 분석이라고 한다. 이러한 시계열 데이터를 분석을 할 때 가장 많이 사용되는 방법은 ARIMA 모델을 사용하는 것이다.\n",
        " "
      ]
    },
    {
      "cell_type": "markdown",
      "metadata": {
        "id": "7KTQKVqFFZ6S"
      },
      "source": [
        "## **1.1. 일변량 정상 시계열(ARIMA)**"
      ]
    },
    {
      "cell_type": "code",
      "metadata": {
        "colab": {
          "base_uri": "https://localhost:8080/"
        },
        "id": "CT2-3QlMIV-H",
        "outputId": "de978249-807f-4d0f-e9c3-361e4fa9c0e0"
      },
      "source": [
        "# 한글로 그래프 제목 입력해도 글씨 깨지지 않게 함\n",
        "\n",
        "!sudo apt-get install -y fonts-nanum\n",
        "!sudo fc-cache -fv\n",
        "!rm ~/.cache/matplotlib -rf"
      ],
      "execution_count": 12,
      "outputs": [
        {
          "output_type": "stream",
          "text": [
            "Reading package lists... Done\n",
            "Building dependency tree       \n",
            "Reading state information... Done\n",
            "fonts-nanum is already the newest version (20170925-1).\n",
            "0 upgraded, 0 newly installed, 0 to remove and 29 not upgraded.\n",
            "/usr/share/fonts: caching, new cache contents: 0 fonts, 1 dirs\n",
            "/usr/share/fonts/truetype: caching, new cache contents: 0 fonts, 3 dirs\n",
            "/usr/share/fonts/truetype/humor-sans: caching, new cache contents: 1 fonts, 0 dirs\n",
            "/usr/share/fonts/truetype/liberation: caching, new cache contents: 16 fonts, 0 dirs\n",
            "/usr/share/fonts/truetype/nanum: caching, new cache contents: 10 fonts, 0 dirs\n",
            "/usr/local/share/fonts: caching, new cache contents: 0 fonts, 0 dirs\n",
            "/root/.local/share/fonts: skipping, no such directory\n",
            "/root/.fonts: skipping, no such directory\n",
            "/var/cache/fontconfig: cleaning cache directory\n",
            "/root/.cache/fontconfig: not cleaning non-existent cache directory\n",
            "/root/.fontconfig: not cleaning non-existent cache directory\n",
            "fc-cache: succeeded\n"
          ],
          "name": "stdout"
        }
      ]
    },
    {
      "cell_type": "code",
      "metadata": {
        "id": "yeS0yFndIZKL"
      },
      "source": [
        "import matplotlib.pyplot as plt\n",
        "\n",
        "plt.rc('font', family='NanumBarunGothic') "
      ],
      "execution_count": 1,
      "outputs": []
    },
    {
      "cell_type": "code",
      "metadata": {
        "id": "x3Llob9uE3AW"
      },
      "source": [
        "import pandas as pd\n",
        "import numpy as np\n",
        "import seaborn as sns\n",
        "import matplotlib as mpl"
      ],
      "execution_count": 2,
      "outputs": []
    },
    {
      "cell_type": "code",
      "metadata": {
        "colab": {
          "base_uri": "https://localhost:8080/"
        },
        "id": "MatTE5_i_TSh",
        "outputId": "839a6680-5df2-4cfa-e1e3-28a43b70d2fa"
      },
      "source": [
        "# 데이터 불러오기\n",
        "df1 = pd.read_csv('/content/drive/MyDrive/Timeseries/Data11.csv')\n",
        "df1.info()"
      ],
      "execution_count": 3,
      "outputs": [
        {
          "output_type": "stream",
          "text": [
            "<class 'pandas.core.frame.DataFrame'>\n",
            "RangeIndex: 803675 entries, 0 to 803674\n",
            "Data columns (total 3 columns):\n",
            " #   Column  Non-Null Count   Dtype \n",
            "---  ------  --------------   ----- \n",
            " 0   구매일     803675 non-null  object\n",
            " 1   구매금액    803675 non-null  int64 \n",
            " 2   물품대분류   803675 non-null  object\n",
            "dtypes: int64(1), object(2)\n",
            "memory usage: 18.4+ MB\n"
          ],
          "name": "stdout"
        }
      ]
    },
    {
      "cell_type": "code",
      "metadata": {
        "colab": {
          "base_uri": "https://localhost:8080/",
          "height": 204
        },
        "id": "ktn1CDb2JEXw",
        "outputId": "d4f4a94a-8230-43e9-fd5b-15bf19059dbd"
      },
      "source": [
        "df1.head()"
      ],
      "execution_count": 4,
      "outputs": [
        {
          "output_type": "execute_result",
          "data": {
            "text/html": [
              "<div>\n",
              "<style scoped>\n",
              "    .dataframe tbody tr th:only-of-type {\n",
              "        vertical-align: middle;\n",
              "    }\n",
              "\n",
              "    .dataframe tbody tr th {\n",
              "        vertical-align: top;\n",
              "    }\n",
              "\n",
              "    .dataframe thead th {\n",
              "        text-align: right;\n",
              "    }\n",
              "</style>\n",
              "<table border=\"1\" class=\"dataframe\">\n",
              "  <thead>\n",
              "    <tr style=\"text-align: right;\">\n",
              "      <th></th>\n",
              "      <th>구매일</th>\n",
              "      <th>구매금액</th>\n",
              "      <th>물품대분류</th>\n",
              "    </tr>\n",
              "  </thead>\n",
              "  <tbody>\n",
              "    <tr>\n",
              "      <th>0</th>\n",
              "      <td>2018-04-20</td>\n",
              "      <td>57120</td>\n",
              "      <td>기저귀</td>\n",
              "    </tr>\n",
              "    <tr>\n",
              "      <th>1</th>\n",
              "      <td>2018-04-20</td>\n",
              "      <td>15900</td>\n",
              "      <td>더블하트</td>\n",
              "    </tr>\n",
              "    <tr>\n",
              "      <th>2</th>\n",
              "      <td>2018-04-20</td>\n",
              "      <td>7000</td>\n",
              "      <td>더블하트</td>\n",
              "    </tr>\n",
              "    <tr>\n",
              "      <th>3</th>\n",
              "      <td>2018-04-20</td>\n",
              "      <td>20900</td>\n",
              "      <td>더블하트</td>\n",
              "    </tr>\n",
              "    <tr>\n",
              "      <th>4</th>\n",
              "      <td>2018-05-06</td>\n",
              "      <td>26500</td>\n",
              "      <td>더블하트</td>\n",
              "    </tr>\n",
              "  </tbody>\n",
              "</table>\n",
              "</div>"
            ],
            "text/plain": [
              "          구매일   구매금액 물품대분류\n",
              "0  2018-04-20  57120   기저귀\n",
              "1  2018-04-20  15900  더블하트\n",
              "2  2018-04-20   7000  더블하트\n",
              "3  2018-04-20  20900  더블하트\n",
              "4  2018-05-06  26500  더블하트"
            ]
          },
          "metadata": {
            "tags": []
          },
          "execution_count": 4
        }
      ]
    },
    {
      "cell_type": "markdown",
      "metadata": {
        "id": "taXJAoxzJVHX"
      },
      "source": [
        "\n",
        "\n",
        "*   고객의 '구매금액' 예측하기\n"
      ]
    },
    {
      "cell_type": "code",
      "metadata": {
        "colab": {
          "base_uri": "https://localhost:8080/",
          "height": 204
        },
        "id": "3yGnIJEdJK-h",
        "outputId": "d7bba789-b015-4555-8dc2-5a0620781184"
      },
      "source": [
        "df1.tail()"
      ],
      "execution_count": 5,
      "outputs": [
        {
          "output_type": "execute_result",
          "data": {
            "text/html": [
              "<div>\n",
              "<style scoped>\n",
              "    .dataframe tbody tr th:only-of-type {\n",
              "        vertical-align: middle;\n",
              "    }\n",
              "\n",
              "    .dataframe tbody tr th {\n",
              "        vertical-align: top;\n",
              "    }\n",
              "\n",
              "    .dataframe thead th {\n",
              "        text-align: right;\n",
              "    }\n",
              "</style>\n",
              "<table border=\"1\" class=\"dataframe\">\n",
              "  <thead>\n",
              "    <tr style=\"text-align: right;\">\n",
              "      <th></th>\n",
              "      <th>구매일</th>\n",
              "      <th>구매금액</th>\n",
              "      <th>물품대분류</th>\n",
              "    </tr>\n",
              "  </thead>\n",
              "  <tbody>\n",
              "    <tr>\n",
              "      <th>803670</th>\n",
              "      <td>2020-08-06</td>\n",
              "      <td>30960</td>\n",
              "      <td>더블하트</td>\n",
              "    </tr>\n",
              "    <tr>\n",
              "      <th>803671</th>\n",
              "      <td>2020-08-06</td>\n",
              "      <td>6640</td>\n",
              "      <td>더블하트</td>\n",
              "    </tr>\n",
              "    <tr>\n",
              "      <th>803672</th>\n",
              "      <td>2020-08-06</td>\n",
              "      <td>5600</td>\n",
              "      <td>더블하트</td>\n",
              "    </tr>\n",
              "    <tr>\n",
              "      <th>803673</th>\n",
              "      <td>2020-08-06</td>\n",
              "      <td>7840</td>\n",
              "      <td>더블하트</td>\n",
              "    </tr>\n",
              "    <tr>\n",
              "      <th>803674</th>\n",
              "      <td>2020-08-06</td>\n",
              "      <td>8500</td>\n",
              "      <td>기타</td>\n",
              "    </tr>\n",
              "  </tbody>\n",
              "</table>\n",
              "</div>"
            ],
            "text/plain": [
              "               구매일   구매금액 물품대분류\n",
              "803670  2020-08-06  30960  더블하트\n",
              "803671  2020-08-06   6640  더블하트\n",
              "803672  2020-08-06   5600  더블하트\n",
              "803673  2020-08-06   7840  더블하트\n",
              "803674  2020-08-06   8500    기타"
            ]
          },
          "metadata": {
            "tags": []
          },
          "execution_count": 5
        }
      ]
    },
    {
      "cell_type": "code",
      "metadata": {
        "id": "8-Pd3R3oJddX"
      },
      "source": [
        "# '구매일' 자료형을 날짜 형태로 바꾸기 - datetime 메서드 이용\n",
        "df1['Datetime'] = pd.to_datetime(df1['구매일'])"
      ],
      "execution_count": 6,
      "outputs": []
    },
    {
      "cell_type": "code",
      "metadata": {
        "colab": {
          "base_uri": "https://localhost:8080/"
        },
        "id": "5UOMPmffJx2S",
        "outputId": "ce302adf-18da-4af3-8bdf-e30ab699e037"
      },
      "source": [
        "# 자료형 확인\n",
        "df1['Datetime'].describe()\n",
        "\n",
        "## Series는 info() 메서드 적용 x , 따라서 describe()로 형태 확인"
      ],
      "execution_count": 7,
      "outputs": [
        {
          "output_type": "stream",
          "text": [
            "/usr/local/lib/python3.7/dist-packages/ipykernel_launcher.py:2: FutureWarning: Treating datetime data as categorical rather than numeric in `.describe` is deprecated and will be removed in a future version of pandas. Specify `datetime_is_numeric=True` to silence this warning and adopt the future behavior now.\n",
            "  \n"
          ],
          "name": "stderr"
        },
        {
          "output_type": "execute_result",
          "data": {
            "text/plain": [
              "count                  803675\n",
              "unique                    589\n",
              "top       2019-10-11 00:00:00\n",
              "freq                    10500\n",
              "first     2018-04-20 00:00:00\n",
              "last      2020-08-07 00:00:00\n",
              "Name: Datetime, dtype: object"
            ]
          },
          "metadata": {
            "tags": []
          },
          "execution_count": 7
        }
      ]
    },
    {
      "cell_type": "markdown",
      "metadata": {
        "id": "6Rs1SaPVKKh0"
      },
      "source": [
        "-> top, first, last의 형태를 봤을 때 날짜 + 시간 형태(datetime)로 잘 적혀있음을 알 수 있다."
      ]
    },
    {
      "cell_type": "code",
      "metadata": {
        "colab": {
          "base_uri": "https://localhost:8080/"
        },
        "id": "hdSm4VwJJ0AU",
        "outputId": "826c20a9-ec7d-46e2-efa0-942562ae8c4e"
      },
      "source": [
        "# 날짜 데이터 추출하기\n",
        "df1['Year'] = df1['Datetime'].dt.year        # 년\n",
        "df1['Month'] = df1['Datetime'].dt.month      # 달\n",
        "df1['Week'] = df1['Datetime'].dt.week        # 주\n",
        "df1['Day_of_week'] = df1['Datetime'].dt.day_name()  ## 요일"
      ],
      "execution_count": 8,
      "outputs": [
        {
          "output_type": "stream",
          "text": [
            "/usr/local/lib/python3.7/dist-packages/ipykernel_launcher.py:4: FutureWarning: Series.dt.weekofyear and Series.dt.week have been deprecated.  Please use Series.dt.isocalendar().week instead.\n",
            "  after removing the cwd from sys.path.\n"
          ],
          "name": "stderr"
        }
      ]
    },
    {
      "cell_type": "code",
      "metadata": {
        "colab": {
          "base_uri": "https://localhost:8080/",
          "height": 204
        },
        "id": "DvpLesnqLPbn",
        "outputId": "fb4a59dc-630f-4746-ea64-28b621af52df"
      },
      "source": [
        "df1.head()"
      ],
      "execution_count": 9,
      "outputs": [
        {
          "output_type": "execute_result",
          "data": {
            "text/html": [
              "<div>\n",
              "<style scoped>\n",
              "    .dataframe tbody tr th:only-of-type {\n",
              "        vertical-align: middle;\n",
              "    }\n",
              "\n",
              "    .dataframe tbody tr th {\n",
              "        vertical-align: top;\n",
              "    }\n",
              "\n",
              "    .dataframe thead th {\n",
              "        text-align: right;\n",
              "    }\n",
              "</style>\n",
              "<table border=\"1\" class=\"dataframe\">\n",
              "  <thead>\n",
              "    <tr style=\"text-align: right;\">\n",
              "      <th></th>\n",
              "      <th>구매일</th>\n",
              "      <th>구매금액</th>\n",
              "      <th>물품대분류</th>\n",
              "      <th>Datetime</th>\n",
              "      <th>Year</th>\n",
              "      <th>Month</th>\n",
              "      <th>Week</th>\n",
              "      <th>Day_of_week</th>\n",
              "    </tr>\n",
              "  </thead>\n",
              "  <tbody>\n",
              "    <tr>\n",
              "      <th>0</th>\n",
              "      <td>2018-04-20</td>\n",
              "      <td>57120</td>\n",
              "      <td>기저귀</td>\n",
              "      <td>2018-04-20</td>\n",
              "      <td>2018</td>\n",
              "      <td>4</td>\n",
              "      <td>16</td>\n",
              "      <td>Friday</td>\n",
              "    </tr>\n",
              "    <tr>\n",
              "      <th>1</th>\n",
              "      <td>2018-04-20</td>\n",
              "      <td>15900</td>\n",
              "      <td>더블하트</td>\n",
              "      <td>2018-04-20</td>\n",
              "      <td>2018</td>\n",
              "      <td>4</td>\n",
              "      <td>16</td>\n",
              "      <td>Friday</td>\n",
              "    </tr>\n",
              "    <tr>\n",
              "      <th>2</th>\n",
              "      <td>2018-04-20</td>\n",
              "      <td>7000</td>\n",
              "      <td>더블하트</td>\n",
              "      <td>2018-04-20</td>\n",
              "      <td>2018</td>\n",
              "      <td>4</td>\n",
              "      <td>16</td>\n",
              "      <td>Friday</td>\n",
              "    </tr>\n",
              "    <tr>\n",
              "      <th>3</th>\n",
              "      <td>2018-04-20</td>\n",
              "      <td>20900</td>\n",
              "      <td>더블하트</td>\n",
              "      <td>2018-04-20</td>\n",
              "      <td>2018</td>\n",
              "      <td>4</td>\n",
              "      <td>16</td>\n",
              "      <td>Friday</td>\n",
              "    </tr>\n",
              "    <tr>\n",
              "      <th>4</th>\n",
              "      <td>2018-05-06</td>\n",
              "      <td>26500</td>\n",
              "      <td>더블하트</td>\n",
              "      <td>2018-05-06</td>\n",
              "      <td>2018</td>\n",
              "      <td>5</td>\n",
              "      <td>18</td>\n",
              "      <td>Sunday</td>\n",
              "    </tr>\n",
              "  </tbody>\n",
              "</table>\n",
              "</div>"
            ],
            "text/plain": [
              "          구매일   구매금액 물품대분류   Datetime  Year  Month  Week Day_of_week\n",
              "0  2018-04-20  57120   기저귀 2018-04-20  2018      4    16      Friday\n",
              "1  2018-04-20  15900  더블하트 2018-04-20  2018      4    16      Friday\n",
              "2  2018-04-20   7000  더블하트 2018-04-20  2018      4    16      Friday\n",
              "3  2018-04-20  20900  더블하트 2018-04-20  2018      4    16      Friday\n",
              "4  2018-05-06  26500  더블하트 2018-05-06  2018      5    18      Sunday"
            ]
          },
          "metadata": {
            "tags": []
          },
          "execution_count": 9
        }
      ]
    },
    {
      "cell_type": "code",
      "metadata": {
        "id": "5UWeQNtiMVje"
      },
      "source": [
        "# pivot_table() - ('행과 열의 위치 바꿔 정리') => '일별 구매금액 합 구하기'\n",
        "p1 = pd.pivot_table(data=df1, \n",
        "               index = 'Datetime', \n",
        "               values='구매금액', \n",
        "               aggfunc='sum').reset_index()\n",
        "\n",
        "## index = 행 위치에 들어갈 열 / columns = 열 위치에 들어갈 열 / values = 데이터로 사용할 열 / aggfunc = 데이터 집계함수 / reset_index() = 데이터프레임의 인덱스 재정의 함수"
      ],
      "execution_count": 10,
      "outputs": []
    },
    {
      "cell_type": "code",
      "metadata": {
        "colab": {
          "base_uri": "https://localhost:8080/",
          "height": 306
        },
        "id": "-zGgIL8kMVgb",
        "outputId": "a7b9fa80-f9e1-48ae-97cc-d2a2f33ff4ef"
      },
      "source": [
        "# 일별 구매금액 합 라인플롯 그리기\n",
        "sns.lineplot(data=p1, x='Datetime', y='구매금액')"
      ],
      "execution_count": 11,
      "outputs": [
        {
          "output_type": "execute_result",
          "data": {
            "text/plain": [
              "<matplotlib.axes._subplots.AxesSubplot at 0x7f1940e8a7d0>"
            ]
          },
          "metadata": {
            "tags": []
          },
          "execution_count": 11
        },
        {
          "output_type": "display_data",
          "data": {
            "image/png": "[encoded data removed]",
            "text/plain": [
              "<Figure size 432x288 with 1 Axes>"
            ]
          },
          "metadata": {
            "tags": [],
            "needs_background": "light"
          }
        }
      ]
    },
    {
      "cell_type": "code",
      "metadata": {
        "colab": {
          "base_uri": "https://localhost:8080/",
          "height": 306
        },
        "id": "HEgYGlwGMVbS",
        "outputId": "911c19b8-81ed-4c47-e1ae-ab4a530693f1"
      },
      "source": [
        "# 일별 + 물품별 구매금액 합 라인플롯 생성하기\n",
        "p2 = pd.pivot_table(data=df1,\n",
        "                    index=['Datetime','물품대분류'],\n",
        "                     values='구매금액', aggfunc='sum').reset_index()\n",
        "\n",
        "sns.lineplot(data=p2, x='Datetime', y='구매금액', hue='물품대분류') ## hue = 카테고리 변수 분류"
      ],
      "execution_count": 12,
      "outputs": [
        {
          "output_type": "execute_result",
          "data": {
            "text/plain": [
              "<matplotlib.axes._subplots.AxesSubplot at 0x7f192e7a2bd0>"
            ]
          },
          "metadata": {
            "tags": []
          },
          "execution_count": 12
        },
        {
          "output_type": "display_data",
          "data": {
            "image/png": "[encoded data removed]",
            "text/plain": [
              "<Figure size 432x288 with 1 Axes>"
            ]
          },
          "metadata": {
            "tags": [],
            "needs_background": "light"
          }
        }
      ]
    },
    {
      "cell_type": "markdown",
      "metadata": {
        "id": "bK32n7pu-LiV"
      },
      "source": [
        "이렇게 시각화를 해놓고보면 엄청난 whitenoise를 잘 찾아낼 수 있다. 여기서 whitenoise는 데이터가 엄청나게 튀는 더블하트이다. \n",
        "\n",
        "더블하트가 다른 품목에 비해 데이터가 튄 이유는 뭔가 일반적이지 않은 특수한 요인이 있었을 것이다. (ex. 재고를 엄청 많이 풀었다든지, 엄청 큰 세일이벤트를 했다던지 등..)\n",
        "\n",
        "시계열 분석을 할 때 이런 데이터는 제거를 하거나 따로 빼놓고 다시 분석을 해야한다."
      ]
    },
    {
      "cell_type": "code",
      "metadata": {
        "colab": {
          "base_uri": "https://localhost:8080/",
          "height": 419
        },
        "id": "SDOC12QZ9VAs",
        "outputId": "d6671083-8a8e-44dc-dadd-443b412854db"
      },
      "source": [
        "# 기저귀 데이터만 빼서 데이터 확인하기\n",
        "cond1 = df1['물품대분류']=='기저귀'\n",
        "df1.loc[cond1]"
      ],
      "execution_count": 13,
      "outputs": [
        {
          "output_type": "execute_result",
          "data": {
            "text/html": [
              "<div>\n",
              "<style scoped>\n",
              "    .dataframe tbody tr th:only-of-type {\n",
              "        vertical-align: middle;\n",
              "    }\n",
              "\n",
              "    .dataframe tbody tr th {\n",
              "        vertical-align: top;\n",
              "    }\n",
              "\n",
              "    .dataframe thead th {\n",
              "        text-align: right;\n",
              "    }\n",
              "</style>\n",
              "<table border=\"1\" class=\"dataframe\">\n",
              "  <thead>\n",
              "    <tr style=\"text-align: right;\">\n",
              "      <th></th>\n",
              "      <th>구매일</th>\n",
              "      <th>구매금액</th>\n",
              "      <th>물품대분류</th>\n",
              "      <th>Datetime</th>\n",
              "      <th>Year</th>\n",
              "      <th>Month</th>\n",
              "      <th>Week</th>\n",
              "      <th>Day_of_week</th>\n",
              "    </tr>\n",
              "  </thead>\n",
              "  <tbody>\n",
              "    <tr>\n",
              "      <th>0</th>\n",
              "      <td>2018-04-20</td>\n",
              "      <td>57120</td>\n",
              "      <td>기저귀</td>\n",
              "      <td>2018-04-20</td>\n",
              "      <td>2018</td>\n",
              "      <td>4</td>\n",
              "      <td>16</td>\n",
              "      <td>Friday</td>\n",
              "    </tr>\n",
              "    <tr>\n",
              "      <th>29</th>\n",
              "      <td>2019-05-13</td>\n",
              "      <td>59520</td>\n",
              "      <td>기저귀</td>\n",
              "      <td>2019-05-13</td>\n",
              "      <td>2019</td>\n",
              "      <td>5</td>\n",
              "      <td>20</td>\n",
              "      <td>Monday</td>\n",
              "    </tr>\n",
              "    <tr>\n",
              "      <th>30</th>\n",
              "      <td>2019-05-10</td>\n",
              "      <td>50640</td>\n",
              "      <td>기저귀</td>\n",
              "      <td>2019-05-10</td>\n",
              "      <td>2019</td>\n",
              "      <td>5</td>\n",
              "      <td>19</td>\n",
              "      <td>Friday</td>\n",
              "    </tr>\n",
              "    <tr>\n",
              "      <th>31</th>\n",
              "      <td>2019-06-06</td>\n",
              "      <td>50640</td>\n",
              "      <td>기저귀</td>\n",
              "      <td>2019-06-06</td>\n",
              "      <td>2019</td>\n",
              "      <td>6</td>\n",
              "      <td>23</td>\n",
              "      <td>Thursday</td>\n",
              "    </tr>\n",
              "    <tr>\n",
              "      <th>32</th>\n",
              "      <td>2019-07-01</td>\n",
              "      <td>50640</td>\n",
              "      <td>기저귀</td>\n",
              "      <td>2019-07-01</td>\n",
              "      <td>2019</td>\n",
              "      <td>7</td>\n",
              "      <td>27</td>\n",
              "      <td>Monday</td>\n",
              "    </tr>\n",
              "    <tr>\n",
              "      <th>...</th>\n",
              "      <td>...</td>\n",
              "      <td>...</td>\n",
              "      <td>...</td>\n",
              "      <td>...</td>\n",
              "      <td>...</td>\n",
              "      <td>...</td>\n",
              "      <td>...</td>\n",
              "      <td>...</td>\n",
              "    </tr>\n",
              "    <tr>\n",
              "      <th>803578</th>\n",
              "      <td>2020-06-25</td>\n",
              "      <td>43400</td>\n",
              "      <td>기저귀</td>\n",
              "      <td>2020-06-25</td>\n",
              "      <td>2020</td>\n",
              "      <td>6</td>\n",
              "      <td>26</td>\n",
              "      <td>Thursday</td>\n",
              "    </tr>\n",
              "    <tr>\n",
              "      <th>803602</th>\n",
              "      <td>2020-06-26</td>\n",
              "      <td>43400</td>\n",
              "      <td>기저귀</td>\n",
              "      <td>2020-06-26</td>\n",
              "      <td>2020</td>\n",
              "      <td>6</td>\n",
              "      <td>26</td>\n",
              "      <td>Friday</td>\n",
              "    </tr>\n",
              "    <tr>\n",
              "      <th>803610</th>\n",
              "      <td>2020-06-28</td>\n",
              "      <td>49900</td>\n",
              "      <td>기저귀</td>\n",
              "      <td>2020-06-28</td>\n",
              "      <td>2020</td>\n",
              "      <td>6</td>\n",
              "      <td>26</td>\n",
              "      <td>Sunday</td>\n",
              "    </tr>\n",
              "    <tr>\n",
              "      <th>803631</th>\n",
              "      <td>2020-07-09</td>\n",
              "      <td>49900</td>\n",
              "      <td>기저귀</td>\n",
              "      <td>2020-07-09</td>\n",
              "      <td>2020</td>\n",
              "      <td>7</td>\n",
              "      <td>28</td>\n",
              "      <td>Thursday</td>\n",
              "    </tr>\n",
              "    <tr>\n",
              "      <th>803632</th>\n",
              "      <td>2020-07-25</td>\n",
              "      <td>49900</td>\n",
              "      <td>기저귀</td>\n",
              "      <td>2020-07-25</td>\n",
              "      <td>2020</td>\n",
              "      <td>7</td>\n",
              "      <td>30</td>\n",
              "      <td>Saturday</td>\n",
              "    </tr>\n",
              "  </tbody>\n",
              "</table>\n",
              "<p>141481 rows × 8 columns</p>\n",
              "</div>"
            ],
            "text/plain": [
              "               구매일   구매금액 물품대분류   Datetime  Year  Month  Week Day_of_week\n",
              "0       2018-04-20  57120   기저귀 2018-04-20  2018      4    16      Friday\n",
              "29      2019-05-13  59520   기저귀 2019-05-13  2019      5    20      Monday\n",
              "30      2019-05-10  50640   기저귀 2019-05-10  2019      5    19      Friday\n",
              "31      2019-06-06  50640   기저귀 2019-06-06  2019      6    23    Thursday\n",
              "32      2019-07-01  50640   기저귀 2019-07-01  2019      7    27      Monday\n",
              "...            ...    ...   ...        ...   ...    ...   ...         ...\n",
              "803578  2020-06-25  43400   기저귀 2020-06-25  2020      6    26    Thursday\n",
              "803602  2020-06-26  43400   기저귀 2020-06-26  2020      6    26      Friday\n",
              "803610  2020-06-28  49900   기저귀 2020-06-28  2020      6    26      Sunday\n",
              "803631  2020-07-09  49900   기저귀 2020-07-09  2020      7    28    Thursday\n",
              "803632  2020-07-25  49900   기저귀 2020-07-25  2020      7    30    Saturday\n",
              "\n",
              "[141481 rows x 8 columns]"
            ]
          },
          "metadata": {
            "tags": []
          },
          "execution_count": 13
        }
      ]
    },
    {
      "cell_type": "markdown",
      "metadata": {
        "id": "GTzG5sf0AloE"
      },
      "source": [
        "-> 데이터를 확인하면 2018년 데이터는 하나 밖에 없다. 이런 데이터는 분석에서 유의미한 결과를 도출해낼 수 없으므로 제거하도록 한다."
      ]
    },
    {
      "cell_type": "code",
      "metadata": {
        "colab": {
          "base_uri": "https://localhost:8080/",
          "height": 204
        },
        "id": "SUNvQlmc9U7a",
        "outputId": "7b1d69f6-eecd-467f-b53b-daf28a569b7f"
      },
      "source": [
        "# 2018년 데이터 제거 = 첫번째 행 제거\n",
        "cond1 = df1['물품대분류']=='기저귀'\n",
        "df2 = df1.loc[cond1].iloc[1:]\n",
        "df2.head()"
      ],
      "execution_count": 15,
      "outputs": [
        {
          "output_type": "execute_result",
          "data": {
            "text/html": [
              "<div>\n",
              "<style scoped>\n",
              "    .dataframe tbody tr th:only-of-type {\n",
              "        vertical-align: middle;\n",
              "    }\n",
              "\n",
              "    .dataframe tbody tr th {\n",
              "        vertical-align: top;\n",
              "    }\n",
              "\n",
              "    .dataframe thead th {\n",
              "        text-align: right;\n",
              "    }\n",
              "</style>\n",
              "<table border=\"1\" class=\"dataframe\">\n",
              "  <thead>\n",
              "    <tr style=\"text-align: right;\">\n",
              "      <th></th>\n",
              "      <th>구매일</th>\n",
              "      <th>구매금액</th>\n",
              "      <th>물품대분류</th>\n",
              "      <th>Datetime</th>\n",
              "      <th>Year</th>\n",
              "      <th>Month</th>\n",
              "      <th>Week</th>\n",
              "      <th>Day_of_week</th>\n",
              "    </tr>\n",
              "  </thead>\n",
              "  <tbody>\n",
              "    <tr>\n",
              "      <th>29</th>\n",
              "      <td>2019-05-13</td>\n",
              "      <td>59520</td>\n",
              "      <td>기저귀</td>\n",
              "      <td>2019-05-13</td>\n",
              "      <td>2019</td>\n",
              "      <td>5</td>\n",
              "      <td>20</td>\n",
              "      <td>Monday</td>\n",
              "    </tr>\n",
              "    <tr>\n",
              "      <th>30</th>\n",
              "      <td>2019-05-10</td>\n",
              "      <td>50640</td>\n",
              "      <td>기저귀</td>\n",
              "      <td>2019-05-10</td>\n",
              "      <td>2019</td>\n",
              "      <td>5</td>\n",
              "      <td>19</td>\n",
              "      <td>Friday</td>\n",
              "    </tr>\n",
              "    <tr>\n",
              "      <th>31</th>\n",
              "      <td>2019-06-06</td>\n",
              "      <td>50640</td>\n",
              "      <td>기저귀</td>\n",
              "      <td>2019-06-06</td>\n",
              "      <td>2019</td>\n",
              "      <td>6</td>\n",
              "      <td>23</td>\n",
              "      <td>Thursday</td>\n",
              "    </tr>\n",
              "    <tr>\n",
              "      <th>32</th>\n",
              "      <td>2019-07-01</td>\n",
              "      <td>50640</td>\n",
              "      <td>기저귀</td>\n",
              "      <td>2019-07-01</td>\n",
              "      <td>2019</td>\n",
              "      <td>7</td>\n",
              "      <td>27</td>\n",
              "      <td>Monday</td>\n",
              "    </tr>\n",
              "    <tr>\n",
              "      <th>33</th>\n",
              "      <td>2019-07-29</td>\n",
              "      <td>101280</td>\n",
              "      <td>기저귀</td>\n",
              "      <td>2019-07-29</td>\n",
              "      <td>2019</td>\n",
              "      <td>7</td>\n",
              "      <td>31</td>\n",
              "      <td>Monday</td>\n",
              "    </tr>\n",
              "  </tbody>\n",
              "</table>\n",
              "</div>"
            ],
            "text/plain": [
              "           구매일    구매금액 물품대분류   Datetime  Year  Month  Week Day_of_week\n",
              "29  2019-05-13   59520   기저귀 2019-05-13  2019      5    20      Monday\n",
              "30  2019-05-10   50640   기저귀 2019-05-10  2019      5    19      Friday\n",
              "31  2019-06-06   50640   기저귀 2019-06-06  2019      6    23    Thursday\n",
              "32  2019-07-01   50640   기저귀 2019-07-01  2019      7    27      Monday\n",
              "33  2019-07-29  101280   기저귀 2019-07-29  2019      7    31      Monday"
            ]
          },
          "metadata": {
            "tags": []
          },
          "execution_count": 15
        }
      ]
    },
    {
      "cell_type": "markdown",
      "metadata": {
        "id": "2vbxjBAfBg7a"
      },
      "source": [
        "\n",
        "\n",
        "*   **ARIMA(Auto Regressive Intergrated Moving Average Model)**\n",
        "\n",
        "  *   **AR(Auto Regressive Model) - 자기회귀모델**\n",
        "\n",
        "      : p 시점 전의 자료가 현재 시점의 데이터에 영향을 주는 회귀모델 / ex) 주식\n",
        "\n",
        "      : ACF(자기상관함수) - 특정 구간 내 데이터간 상관관계\n",
        "\n",
        "      : PACF(부분자기상관함수)\n",
        "\n",
        "  *   **MA(Moving Average Model) - 이동평균모델**\n",
        "\n",
        "      : 일정한 구간 데이터의 평균을 계산해 미래를 예측하는 모델\n",
        "\n",
        "  *   **Difference - 차분**\n",
        "\n",
        "      : 사실상 실무에서 사용하는 데이터는 Lag 데이터(일정한 시간(텀)을 갖는 데이터)가 아니기 때문에 이러한 데이터를 정상적으로 변환시켜야 한다. 이러한 작업을 차분이라고 한다.\n",
        "\n",
        "    -> AR모델만 사용하면 whitenoise 문제를 해결할 수 없기 때문에 MA모델도 함께 사용한다. MA모델은 불규칙적인 변동을 제거해줄 수 있다.\n",
        "\n",
        "---\n",
        "\n",
        "\n"
      ]
    },
    {
      "cell_type": "markdown",
      "metadata": {
        "id": "YnptQf0tIKe4"
      },
      "source": [
        "\n",
        "\n",
        "*   **ARIMA 모델을 사용하기 위한 조건**\n",
        "\n",
        "  - 단기예측 O (장기예측엔 적합하지 않음)\n",
        "\n",
        "  - 계절적 변동요인(주기적 변동)이 있는 경우\n",
        "\n",
        "  - Sample size가 충분한 경우 (Sample > 50)\n",
        "\n",
        "  - 정상성(일정한 트렌드)을 띄는 자료 -> 만약 평균이나 분산이 증가/감소하는 경우에는 '차분'을 사용해야한다.\n",
        "\n"
      ]
    },
    {
      "cell_type": "code",
      "metadata": {
        "colab": {
          "base_uri": "https://localhost:8080/"
        },
        "id": "Oo-gDCis84k3",
        "outputId": "74bb065f-ca97-4d97-f3c0-eb8e3299e310"
      },
      "source": [
        "# ARIMA 모델 라이브러리 불러오기\n",
        "import statsmodels.tsa.api as tsa"
      ],
      "execution_count": 16,
      "outputs": [
        {
          "output_type": "stream",
          "text": [
            "/usr/local/lib/python3.7/dist-packages/statsmodels/tools/_testing.py:19: FutureWarning: pandas.util.testing is deprecated. Use the functions in the public API at pandas.testing instead.\n",
            "  import pandas.util.testing as tm\n"
          ],
          "name": "stderr"
        }
      ]
    },
    {
      "cell_type": "code",
      "metadata": {
        "colab": {
          "base_uri": "https://localhost:8080/",
          "height": 419
        },
        "id": "7o2Ylg84KhWg",
        "outputId": "f8a0a3b8-4aae-43fa-9101-1adb0f9b5952"
      },
      "source": [
        "# 기저귀 데이터 살펴보기\n",
        "df2"
      ],
      "execution_count": 17,
      "outputs": [
        {
          "output_type": "execute_result",
          "data": {
            "text/html": [
              "<div>\n",
              "<style scoped>\n",
              "    .dataframe tbody tr th:only-of-type {\n",
              "        vertical-align: middle;\n",
              "    }\n",
              "\n",
              "    .dataframe tbody tr th {\n",
              "        vertical-align: top;\n",
              "    }\n",
              "\n",
              "    .dataframe thead th {\n",
              "        text-align: right;\n",
              "    }\n",
              "</style>\n",
              "<table border=\"1\" class=\"dataframe\">\n",
              "  <thead>\n",
              "    <tr style=\"text-align: right;\">\n",
              "      <th></th>\n",
              "      <th>구매일</th>\n",
              "      <th>구매금액</th>\n",
              "      <th>물품대분류</th>\n",
              "      <th>Datetime</th>\n",
              "      <th>Year</th>\n",
              "      <th>Month</th>\n",
              "      <th>Week</th>\n",
              "      <th>Day_of_week</th>\n",
              "    </tr>\n",
              "  </thead>\n",
              "  <tbody>\n",
              "    <tr>\n",
              "      <th>29</th>\n",
              "      <td>2019-05-13</td>\n",
              "      <td>59520</td>\n",
              "      <td>기저귀</td>\n",
              "      <td>2019-05-13</td>\n",
              "      <td>2019</td>\n",
              "      <td>5</td>\n",
              "      <td>20</td>\n",
              "      <td>Monday</td>\n",
              "    </tr>\n",
              "    <tr>\n",
              "      <th>30</th>\n",
              "      <td>2019-05-10</td>\n",
              "      <td>50640</td>\n",
              "      <td>기저귀</td>\n",
              "      <td>2019-05-10</td>\n",
              "      <td>2019</td>\n",
              "      <td>5</td>\n",
              "      <td>19</td>\n",
              "      <td>Friday</td>\n",
              "    </tr>\n",
              "    <tr>\n",
              "      <th>31</th>\n",
              "      <td>2019-06-06</td>\n",
              "      <td>50640</td>\n",
              "      <td>기저귀</td>\n",
              "      <td>2019-06-06</td>\n",
              "      <td>2019</td>\n",
              "      <td>6</td>\n",
              "      <td>23</td>\n",
              "      <td>Thursday</td>\n",
              "    </tr>\n",
              "    <tr>\n",
              "      <th>32</th>\n",
              "      <td>2019-07-01</td>\n",
              "      <td>50640</td>\n",
              "      <td>기저귀</td>\n",
              "      <td>2019-07-01</td>\n",
              "      <td>2019</td>\n",
              "      <td>7</td>\n",
              "      <td>27</td>\n",
              "      <td>Monday</td>\n",
              "    </tr>\n",
              "    <tr>\n",
              "      <th>33</th>\n",
              "      <td>2019-07-29</td>\n",
              "      <td>101280</td>\n",
              "      <td>기저귀</td>\n",
              "      <td>2019-07-29</td>\n",
              "      <td>2019</td>\n",
              "      <td>7</td>\n",
              "      <td>31</td>\n",
              "      <td>Monday</td>\n",
              "    </tr>\n",
              "    <tr>\n",
              "      <th>...</th>\n",
              "      <td>...</td>\n",
              "      <td>...</td>\n",
              "      <td>...</td>\n",
              "      <td>...</td>\n",
              "      <td>...</td>\n",
              "      <td>...</td>\n",
              "      <td>...</td>\n",
              "      <td>...</td>\n",
              "    </tr>\n",
              "    <tr>\n",
              "      <th>803578</th>\n",
              "      <td>2020-06-25</td>\n",
              "      <td>43400</td>\n",
              "      <td>기저귀</td>\n",
              "      <td>2020-06-25</td>\n",
              "      <td>2020</td>\n",
              "      <td>6</td>\n",
              "      <td>26</td>\n",
              "      <td>Thursday</td>\n",
              "    </tr>\n",
              "    <tr>\n",
              "      <th>803602</th>\n",
              "      <td>2020-06-26</td>\n",
              "      <td>43400</td>\n",
              "      <td>기저귀</td>\n",
              "      <td>2020-06-26</td>\n",
              "      <td>2020</td>\n",
              "      <td>6</td>\n",
              "      <td>26</td>\n",
              "      <td>Friday</td>\n",
              "    </tr>\n",
              "    <tr>\n",
              "      <th>803610</th>\n",
              "      <td>2020-06-28</td>\n",
              "      <td>49900</td>\n",
              "      <td>기저귀</td>\n",
              "      <td>2020-06-28</td>\n",
              "      <td>2020</td>\n",
              "      <td>6</td>\n",
              "      <td>26</td>\n",
              "      <td>Sunday</td>\n",
              "    </tr>\n",
              "    <tr>\n",
              "      <th>803631</th>\n",
              "      <td>2020-07-09</td>\n",
              "      <td>49900</td>\n",
              "      <td>기저귀</td>\n",
              "      <td>2020-07-09</td>\n",
              "      <td>2020</td>\n",
              "      <td>7</td>\n",
              "      <td>28</td>\n",
              "      <td>Thursday</td>\n",
              "    </tr>\n",
              "    <tr>\n",
              "      <th>803632</th>\n",
              "      <td>2020-07-25</td>\n",
              "      <td>49900</td>\n",
              "      <td>기저귀</td>\n",
              "      <td>2020-07-25</td>\n",
              "      <td>2020</td>\n",
              "      <td>7</td>\n",
              "      <td>30</td>\n",
              "      <td>Saturday</td>\n",
              "    </tr>\n",
              "  </tbody>\n",
              "</table>\n",
              "<p>141480 rows × 8 columns</p>\n",
              "</div>"
            ],
            "text/plain": [
              "               구매일    구매금액 물품대분류   Datetime  Year  Month  Week Day_of_week\n",
              "29      2019-05-13   59520   기저귀 2019-05-13  2019      5    20      Monday\n",
              "30      2019-05-10   50640   기저귀 2019-05-10  2019      5    19      Friday\n",
              "31      2019-06-06   50640   기저귀 2019-06-06  2019      6    23    Thursday\n",
              "32      2019-07-01   50640   기저귀 2019-07-01  2019      7    27      Monday\n",
              "33      2019-07-29  101280   기저귀 2019-07-29  2019      7    31      Monday\n",
              "...            ...     ...   ...        ...   ...    ...   ...         ...\n",
              "803578  2020-06-25   43400   기저귀 2020-06-25  2020      6    26    Thursday\n",
              "803602  2020-06-26   43400   기저귀 2020-06-26  2020      6    26      Friday\n",
              "803610  2020-06-28   49900   기저귀 2020-06-28  2020      6    26      Sunday\n",
              "803631  2020-07-09   49900   기저귀 2020-07-09  2020      7    28    Thursday\n",
              "803632  2020-07-25   49900   기저귀 2020-07-25  2020      7    30    Saturday\n",
              "\n",
              "[141480 rows x 8 columns]"
            ]
          },
          "metadata": {
            "tags": []
          },
          "execution_count": 17
        }
      ]
    },
    {
      "cell_type": "code",
      "metadata": {
        "colab": {
          "base_uri": "https://localhost:8080/",
          "height": 450
        },
        "id": "0MgxzPRBKvAf",
        "outputId": "e5b47ae9-745b-493f-8557-cffff7d45d7a"
      },
      "source": [
        "# 시계열 데이터프레임 만들기 <- pivot_table 메서드 사용하여 행과 열의 위치 정리\n",
        "df_time = pd.pivot_table(data=df2, index='Datetime', \n",
        "                         values='구매금액', aggfunc='sum')\n",
        "df_time\n",
        "## index = 행 위치에 들어갈 열 / values = 데이터로 사용할 열 / aggfunc = 데이터 집계함수 "
      ],
      "execution_count": 18,
      "outputs": [
        {
          "output_type": "execute_result",
          "data": {
            "text/html": [
              "<div>\n",
              "<style scoped>\n",
              "    .dataframe tbody tr th:only-of-type {\n",
              "        vertical-align: middle;\n",
              "    }\n",
              "\n",
              "    .dataframe tbody tr th {\n",
              "        vertical-align: top;\n",
              "    }\n",
              "\n",
              "    .dataframe thead th {\n",
              "        text-align: right;\n",
              "    }\n",
              "</style>\n",
              "<table border=\"1\" class=\"dataframe\">\n",
              "  <thead>\n",
              "    <tr style=\"text-align: right;\">\n",
              "      <th></th>\n",
              "      <th>구매금액</th>\n",
              "    </tr>\n",
              "    <tr>\n",
              "      <th>Datetime</th>\n",
              "      <th></th>\n",
              "    </tr>\n",
              "  </thead>\n",
              "  <tbody>\n",
              "    <tr>\n",
              "      <th>2019-01-01</th>\n",
              "      <td>3051240</td>\n",
              "    </tr>\n",
              "    <tr>\n",
              "      <th>2019-01-02</th>\n",
              "      <td>2556280</td>\n",
              "    </tr>\n",
              "    <tr>\n",
              "      <th>2019-01-03</th>\n",
              "      <td>2729480</td>\n",
              "    </tr>\n",
              "    <tr>\n",
              "      <th>2019-01-04</th>\n",
              "      <td>2238440</td>\n",
              "    </tr>\n",
              "    <tr>\n",
              "      <th>2019-01-05</th>\n",
              "      <td>2478680</td>\n",
              "    </tr>\n",
              "    <tr>\n",
              "      <th>...</th>\n",
              "      <td>...</td>\n",
              "    </tr>\n",
              "    <tr>\n",
              "      <th>2020-08-03</th>\n",
              "      <td>3075900</td>\n",
              "    </tr>\n",
              "    <tr>\n",
              "      <th>2020-08-04</th>\n",
              "      <td>4010200</td>\n",
              "    </tr>\n",
              "    <tr>\n",
              "      <th>2020-08-05</th>\n",
              "      <td>2937800</td>\n",
              "    </tr>\n",
              "    <tr>\n",
              "      <th>2020-08-06</th>\n",
              "      <td>2647000</td>\n",
              "    </tr>\n",
              "    <tr>\n",
              "      <th>2020-08-07</th>\n",
              "      <td>1022300</td>\n",
              "    </tr>\n",
              "  </tbody>\n",
              "</table>\n",
              "<p>578 rows × 1 columns</p>\n",
              "</div>"
            ],
            "text/plain": [
              "               구매금액\n",
              "Datetime           \n",
              "2019-01-01  3051240\n",
              "2019-01-02  2556280\n",
              "2019-01-03  2729480\n",
              "2019-01-04  2238440\n",
              "2019-01-05  2478680\n",
              "...             ...\n",
              "2020-08-03  3075900\n",
              "2020-08-04  4010200\n",
              "2020-08-05  2937800\n",
              "2020-08-06  2647000\n",
              "2020-08-07  1022300\n",
              "\n",
              "[578 rows x 1 columns]"
            ]
          },
          "metadata": {
            "tags": []
          },
          "execution_count": 18
        }
      ]
    },
    {
      "cell_type": "markdown",
      "metadata": {
        "id": "cdg0bvE3Os0D"
      },
      "source": [
        "-> 일별 구매금액의 합이 순차적으로 정리되어 나오고 있음을 확인할 수 있음.\n",
        "\n",
        "---"
      ]
    },
    {
      "cell_type": "markdown",
      "metadata": {
        "id": "myDFHuHCNda1"
      },
      "source": [
        "\n",
        "\n",
        "*   시계열 데이터프레임의 특징\n",
        "\n",
        ": 위의 데이터프레임을 통해 알 수 있듯이 보통 시간(날짜) 데이터를 인덱스(x값)로 두고, 하나의 피처를 y값으로 둔다.\n",
        "\n",
        ": 즉 **datetime을** 피처가 아닌, **인덱스로 넣어줘야한다!**\n",
        "\n"
      ]
    },
    {
      "cell_type": "code",
      "metadata": {
        "colab": {
          "base_uri": "https://localhost:8080/",
          "height": 419
        },
        "id": "sKEY7ptENBj7",
        "outputId": "dc137191-8e25-4118-cfb0-1a852371af24"
      },
      "source": [
        "# 데이터프레임 형태가 이렇게 되어 있으면 안된다. \n",
        "df_time2 = pd.pivot_table(data=df2, index='Datetime', \n",
        "                         values='구매금액', aggfunc='sum').reset_index()\n",
        "df_time2"
      ],
      "execution_count": 19,
      "outputs": [
        {
          "output_type": "execute_result",
          "data": {
            "text/html": [
              "<div>\n",
              "<style scoped>\n",
              "    .dataframe tbody tr th:only-of-type {\n",
              "        vertical-align: middle;\n",
              "    }\n",
              "\n",
              "    .dataframe tbody tr th {\n",
              "        vertical-align: top;\n",
              "    }\n",
              "\n",
              "    .dataframe thead th {\n",
              "        text-align: right;\n",
              "    }\n",
              "</style>\n",
              "<table border=\"1\" class=\"dataframe\">\n",
              "  <thead>\n",
              "    <tr style=\"text-align: right;\">\n",
              "      <th></th>\n",
              "      <th>Datetime</th>\n",
              "      <th>구매금액</th>\n",
              "    </tr>\n",
              "  </thead>\n",
              "  <tbody>\n",
              "    <tr>\n",
              "      <th>0</th>\n",
              "      <td>2019-01-01</td>\n",
              "      <td>3051240</td>\n",
              "    </tr>\n",
              "    <tr>\n",
              "      <th>1</th>\n",
              "      <td>2019-01-02</td>\n",
              "      <td>2556280</td>\n",
              "    </tr>\n",
              "    <tr>\n",
              "      <th>2</th>\n",
              "      <td>2019-01-03</td>\n",
              "      <td>2729480</td>\n",
              "    </tr>\n",
              "    <tr>\n",
              "      <th>3</th>\n",
              "      <td>2019-01-04</td>\n",
              "      <td>2238440</td>\n",
              "    </tr>\n",
              "    <tr>\n",
              "      <th>4</th>\n",
              "      <td>2019-01-05</td>\n",
              "      <td>2478680</td>\n",
              "    </tr>\n",
              "    <tr>\n",
              "      <th>...</th>\n",
              "      <td>...</td>\n",
              "      <td>...</td>\n",
              "    </tr>\n",
              "    <tr>\n",
              "      <th>573</th>\n",
              "      <td>2020-08-03</td>\n",
              "      <td>3075900</td>\n",
              "    </tr>\n",
              "    <tr>\n",
              "      <th>574</th>\n",
              "      <td>2020-08-04</td>\n",
              "      <td>4010200</td>\n",
              "    </tr>\n",
              "    <tr>\n",
              "      <th>575</th>\n",
              "      <td>2020-08-05</td>\n",
              "      <td>2937800</td>\n",
              "    </tr>\n",
              "    <tr>\n",
              "      <th>576</th>\n",
              "      <td>2020-08-06</td>\n",
              "      <td>2647000</td>\n",
              "    </tr>\n",
              "    <tr>\n",
              "      <th>577</th>\n",
              "      <td>2020-08-07</td>\n",
              "      <td>1022300</td>\n",
              "    </tr>\n",
              "  </tbody>\n",
              "</table>\n",
              "<p>578 rows × 2 columns</p>\n",
              "</div>"
            ],
            "text/plain": [
              "      Datetime     구매금액\n",
              "0   2019-01-01  3051240\n",
              "1   2019-01-02  2556280\n",
              "2   2019-01-03  2729480\n",
              "3   2019-01-04  2238440\n",
              "4   2019-01-05  2478680\n",
              "..         ...      ...\n",
              "573 2020-08-03  3075900\n",
              "574 2020-08-04  4010200\n",
              "575 2020-08-05  2937800\n",
              "576 2020-08-06  2647000\n",
              "577 2020-08-07  1022300\n",
              "\n",
              "[578 rows x 2 columns]"
            ]
          },
          "metadata": {
            "tags": []
          },
          "execution_count": 19
        }
      ]
    },
    {
      "cell_type": "markdown",
      "metadata": {
        "id": "AJjiTcugPaNv"
      },
      "source": [
        "-> 인덱스가 이렇게 0,1,2,3...(RangeIndex)의 형태가 되면 안된다. "
      ]
    },
    {
      "cell_type": "code",
      "metadata": {
        "colab": {
          "base_uri": "https://localhost:8080/",
          "height": 450
        },
        "id": "EfYWgWinPPqD",
        "outputId": "3ca71992-24bb-44db-81b9-493d8d209fda"
      },
      "source": [
        "# 인덱스를 이렇게 datetime 형태로 바꿔줘야한다.\n",
        "df_time2 = pd.pivot_table(data=df2, index='Datetime', \n",
        "                         values='구매금액', aggfunc='sum').reset_index()\n",
        "df_time2.set_index('Datetime')"
      ],
      "execution_count": 20,
      "outputs": [
        {
          "output_type": "execute_result",
          "data": {
            "text/html": [
              "<div>\n",
              "<style scoped>\n",
              "    .dataframe tbody tr th:only-of-type {\n",
              "        vertical-align: middle;\n",
              "    }\n",
              "\n",
              "    .dataframe tbody tr th {\n",
              "        vertical-align: top;\n",
              "    }\n",
              "\n",
              "    .dataframe thead th {\n",
              "        text-align: right;\n",
              "    }\n",
              "</style>\n",
              "<table border=\"1\" class=\"dataframe\">\n",
              "  <thead>\n",
              "    <tr style=\"text-align: right;\">\n",
              "      <th></th>\n",
              "      <th>구매금액</th>\n",
              "    </tr>\n",
              "    <tr>\n",
              "      <th>Datetime</th>\n",
              "      <th></th>\n",
              "    </tr>\n",
              "  </thead>\n",
              "  <tbody>\n",
              "    <tr>\n",
              "      <th>2019-01-01</th>\n",
              "      <td>3051240</td>\n",
              "    </tr>\n",
              "    <tr>\n",
              "      <th>2019-01-02</th>\n",
              "      <td>2556280</td>\n",
              "    </tr>\n",
              "    <tr>\n",
              "      <th>2019-01-03</th>\n",
              "      <td>2729480</td>\n",
              "    </tr>\n",
              "    <tr>\n",
              "      <th>2019-01-04</th>\n",
              "      <td>2238440</td>\n",
              "    </tr>\n",
              "    <tr>\n",
              "      <th>2019-01-05</th>\n",
              "      <td>2478680</td>\n",
              "    </tr>\n",
              "    <tr>\n",
              "      <th>...</th>\n",
              "      <td>...</td>\n",
              "    </tr>\n",
              "    <tr>\n",
              "      <th>2020-08-03</th>\n",
              "      <td>3075900</td>\n",
              "    </tr>\n",
              "    <tr>\n",
              "      <th>2020-08-04</th>\n",
              "      <td>4010200</td>\n",
              "    </tr>\n",
              "    <tr>\n",
              "      <th>2020-08-05</th>\n",
              "      <td>2937800</td>\n",
              "    </tr>\n",
              "    <tr>\n",
              "      <th>2020-08-06</th>\n",
              "      <td>2647000</td>\n",
              "    </tr>\n",
              "    <tr>\n",
              "      <th>2020-08-07</th>\n",
              "      <td>1022300</td>\n",
              "    </tr>\n",
              "  </tbody>\n",
              "</table>\n",
              "<p>578 rows × 1 columns</p>\n",
              "</div>"
            ],
            "text/plain": [
              "               구매금액\n",
              "Datetime           \n",
              "2019-01-01  3051240\n",
              "2019-01-02  2556280\n",
              "2019-01-03  2729480\n",
              "2019-01-04  2238440\n",
              "2019-01-05  2478680\n",
              "...             ...\n",
              "2020-08-03  3075900\n",
              "2020-08-04  4010200\n",
              "2020-08-05  2937800\n",
              "2020-08-06  2647000\n",
              "2020-08-07  1022300\n",
              "\n",
              "[578 rows x 1 columns]"
            ]
          },
          "metadata": {
            "tags": []
          },
          "execution_count": 20
        }
      ]
    },
    {
      "cell_type": "code",
      "metadata": {
        "colab": {
          "base_uri": "https://localhost:8080/"
        },
        "id": "HzjJbl08PqFf",
        "outputId": "89144135-f702-40d7-cf36-04fb2b7ef386"
      },
      "source": [
        "# 일일 단위의 평균금액 계산하기 \n",
        "y = df_time['구매금액'].resample('1D').mean()  ## resample() - 시간 단위 구간 설정\n",
        "y"
      ],
      "execution_count": 35,
      "outputs": [
        {
          "output_type": "execute_result",
          "data": {
            "text/plain": [
              "Datetime\n",
              "2019-01-01    3051240.0\n",
              "2019-01-02    2556280.0\n",
              "2019-01-03    2729480.0\n",
              "2019-01-04    2238440.0\n",
              "2019-01-05    2478680.0\n",
              "                ...    \n",
              "2020-08-03    3075900.0\n",
              "2020-08-04    4010200.0\n",
              "2020-08-05    2937800.0\n",
              "2020-08-06    2647000.0\n",
              "2020-08-07    1022300.0\n",
              "Freq: D, Name: 구매금액, Length: 585, dtype: float64"
            ]
          },
          "metadata": {
            "tags": []
          },
          "execution_count": 35
        }
      ]
    },
    {
      "cell_type": "code",
      "metadata": {
        "colab": {
          "base_uri": "https://localhost:8080/"
        },
        "id": "FAEIhOfSQk0A",
        "outputId": "c9ac4c65-c0f2-4e68-c2b9-d18827704acf"
      },
      "source": [
        "# 결측값 개수 확인\n",
        "y.isnull().sum()"
      ],
      "execution_count": 36,
      "outputs": [
        {
          "output_type": "execute_result",
          "data": {
            "text/plain": [
              "7"
            ]
          },
          "metadata": {
            "tags": []
          },
          "execution_count": 36
        }
      ]
    },
    {
      "cell_type": "markdown",
      "metadata": {
        "id": "Jp81r5DNRPAI"
      },
      "source": [
        "만약 결측값이 있다면, 시계열 분석에서는 결측값을 다음과 같이 지정해준다."
      ]
    },
    {
      "cell_type": "code",
      "metadata": {
        "colab": {
          "base_uri": "https://localhost:8080/"
        },
        "id": "KYYQ4DoJRCzv",
        "outputId": "0bb61676-2c0d-4abd-fe08-7b53a61e5408"
      },
      "source": [
        "# 결측값이 있는 경우, 다음과 같이 지정해준다.\n",
        "y1 = day_amount.fillna(method='ffill')\n",
        "y1\n",
        "\n",
        "## 시계열 데이터의 결측값을 채워주기 위해서는 method = 'bfill' -> 이후 값으로 누락값 변경\n",
        "##                                  method = 'ffill' -> 이전 값으로 누락값 변경"
      ],
      "execution_count": 37,
      "outputs": [
        {
          "output_type": "execute_result",
          "data": {
            "text/plain": [
              "Datetime\n",
              "2019-01-01    3051240.0\n",
              "2019-01-02    2556280.0\n",
              "2019-01-03    2729480.0\n",
              "2019-01-04    2238440.0\n",
              "2019-01-05    2478680.0\n",
              "                ...    \n",
              "2020-08-03    3075900.0\n",
              "2020-08-04    4010200.0\n",
              "2020-08-05    2937800.0\n",
              "2020-08-06    2647000.0\n",
              "2020-08-07    1022300.0\n",
              "Freq: D, Name: 구매금액, Length: 585, dtype: float64"
            ]
          },
          "metadata": {
            "tags": []
          },
          "execution_count": 37
        }
      ]
    },
    {
      "cell_type": "code",
      "metadata": {
        "id": "VjCss2XUU7Lk"
      },
      "source": [
        "# 그래프 크기 설정\n",
        "from pylab import rcParams \n",
        "\n",
        "rcParams['figure.figsize']= 15,10"
      ],
      "execution_count": 38,
      "outputs": []
    },
    {
      "cell_type": "code",
      "metadata": {
        "colab": {
          "base_uri": "https://localhost:8080/",
          "height": 797
        },
        "id": "b91g4CmRSnSg",
        "outputId": "c7501675-3f64-47a0-9a2d-e493621c0fca"
      },
      "source": [
        "# 시계열 모델 생성\n",
        "model_series = tsa.seasonal_decompose(day_amount1, model='additive')  ## seasonal_decompose() = 시계열 분해\n",
        "                                                                     ## : Trend, Seasonality, Cycle/Resdiual(잔차, 즉 변동) \n",
        "\n",
        "# 모델 시각화\n",
        "fig = model_series.plot()\n",
        "plt.show()"
      ],
      "execution_count": 39,
      "outputs": [
        {
          "output_type": "stream",
          "text": [
            "/usr/local/lib/python3.7/dist-packages/matplotlib/backends/backend_agg.py:214: RuntimeWarning: Glyph 8722 missing from current font.\n",
            "  font.set_text(s, 0.0, flags=flags)\n",
            "/usr/local/lib/python3.7/dist-packages/matplotlib/backends/backend_agg.py:183: RuntimeWarning: Glyph 8722 missing from current font.\n",
            "  font.set_text(s, 0, flags=flags)\n"
          ],
          "name": "stderr"
        },
        {
          "output_type": "display_data",
          "data": {
            "image/png": "[encoded data removed]",
            "text/plain": [
              "<Figure size 1080x720 with 4 Axes>"
            ]
          },
          "metadata": {
            "tags": [],
            "needs_background": "light"
          }
        }
      ]
    },
    {
      "cell_type": "markdown",
      "metadata": {
        "id": "3mf9V2-_W3Lp"
      },
      "source": [
        "\n",
        "\n",
        "*   **시계열 분해**\n",
        "  *   Trend(추세요인)\n",
        "  *   Seasonality(계절요인)\n",
        "  *   Resdiual(불규칙 또는 순환요인) \n",
        "\n",
        "  -> 시각화를 통해 이것들을 살펴봐야한다! \n"
      ]
    },
    {
      "cell_type": "code",
      "metadata": {
        "id": "ajMrUAsQSnPK"
      },
      "source": [
        "import itertools"
      ],
      "execution_count": 40,
      "outputs": []
    },
    {
      "cell_type": "code",
      "metadata": {
        "id": "MO8oj8HrSnKf"
      },
      "source": [
        "p = d = q = range(0,2)\n",
        "pdq = list(itertools.product(p,d,q))   # p = 며칠 전의 자료가 영향을 주는지 /  d = 차분  / \n",
        "seasonal_pdq = [(x[0], x[1], x[2], 12) for x in list(itertools.product(p, d, q))]"
      ],
      "execution_count": 41,
      "outputs": []
    },
    {
      "cell_type": "code",
      "metadata": {
        "colab": {
          "base_uri": "https://localhost:8080/"
        },
        "id": "1HFn4IiNSnHv",
        "outputId": "11a16d1c-3ad5-4543-e42f-e3e37a34915d"
      },
      "source": [
        "# ARIMA 모델의 파라미터 - 3가지\n",
        "seasonal_pdq"
      ],
      "execution_count": 42,
      "outputs": [
        {
          "output_type": "execute_result",
          "data": {
            "text/plain": [
              "[(0, 0, 0, 12),\n",
              " (0, 0, 1, 12),\n",
              " (0, 1, 0, 12),\n",
              " (0, 1, 1, 12),\n",
              " (1, 0, 0, 12),\n",
              " (1, 0, 1, 12),\n",
              " (1, 1, 0, 12),\n",
              " (1, 1, 1, 12)]"
            ]
          },
          "metadata": {
            "tags": []
          },
          "execution_count": 42
        }
      ]
    },
    {
      "cell_type": "code",
      "metadata": {
        "id": "CG-fryAIYUAO"
      },
      "source": [
        "param_list = []\n",
        "param_seasonal_list = []\n",
        "results_AIC_list = []"
      ],
      "execution_count": 43,
      "outputs": []
    },
    {
      "cell_type": "code",
      "metadata": {
        "colab": {
          "base_uri": "https://localhost:8080/"
        },
        "id": "-7l3sxtLaK-K",
        "outputId": "0a42c51b-f019-4f5f-f220-c0d8643240f1"
      },
      "source": [
        "for param in pdq:\n",
        "     for param_seasonal in seasonal_pdq:\n",
        "        try:\n",
        "            mod = tsa.statespace.SARIMAX(y1,order=param,\n",
        "                                            seasonal_order=param_seasonal,\n",
        "                                            enforce_stationarity=False,\n",
        "                                            enforce_invertibility=False)\n",
        "            results = mod.fit()\n",
        "            param_list.append(param)\n",
        "            param_seasonal_list.append(param_seasonal)\n",
        "            results_AIC_list.append(results.aic)\n",
        "        except:\n",
        "             continue"
      ],
      "execution_count": 44,
      "outputs": [
        {
          "output_type": "stream",
          "text": [
            "/usr/local/lib/python3.7/dist-packages/statsmodels/base/model.py:512: ConvergenceWarning: Maximum Likelihood optimization failed to converge. Check mle_retvals\n",
            "  \"Check mle_retvals\", ConvergenceWarning)\n"
          ],
          "name": "stderr"
        }
      ]
    },
    {
      "cell_type": "code",
      "metadata": {
        "id": "Wn3GG73eaOno"
      },
      "source": [
        "ARIMA_list = pd.DataFrame({'Parameter':param_list,'Seasonal':param_seasonal_list,'AIC':results_AIC_list})\n",
        "ARIMA_list.to_excel('arima_model_list.xlsx')"
      ],
      "execution_count": 45,
      "outputs": []
    },
    {
      "cell_type": "code",
      "metadata": {
        "colab": {
          "base_uri": "https://localhost:8080/",
          "height": 419
        },
        "id": "Jbec57Pkanf4",
        "outputId": "00a4718d-25c3-455d-9633-1e31141abec1"
      },
      "source": [
        "# ARIMA 모델 중 가장 성능이 좋은 Parameter 찾기\n",
        "ARIMA_list.sort_values(by='AIC')"
      ],
      "execution_count": 47,
      "outputs": [
        {
          "output_type": "execute_result",
          "data": {
            "text/html": [
              "<div>\n",
              "<style scoped>\n",
              "    .dataframe tbody tr th:only-of-type {\n",
              "        vertical-align: middle;\n",
              "    }\n",
              "\n",
              "    .dataframe tbody tr th {\n",
              "        vertical-align: top;\n",
              "    }\n",
              "\n",
              "    .dataframe thead th {\n",
              "        text-align: right;\n",
              "    }\n",
              "</style>\n",
              "<table border=\"1\" class=\"dataframe\">\n",
              "  <thead>\n",
              "    <tr style=\"text-align: right;\">\n",
              "      <th></th>\n",
              "      <th>Parameter</th>\n",
              "      <th>Seasonal</th>\n",
              "      <th>AIC</th>\n",
              "    </tr>\n",
              "  </thead>\n",
              "  <tbody>\n",
              "    <tr>\n",
              "      <th>43</th>\n",
              "      <td>(1, 0, 1)</td>\n",
              "      <td>(0, 1, 1, 12)</td>\n",
              "      <td>18983.237154</td>\n",
              "    </tr>\n",
              "    <tr>\n",
              "      <th>47</th>\n",
              "      <td>(1, 0, 1)</td>\n",
              "      <td>(1, 1, 1, 12)</td>\n",
              "      <td>18983.666910</td>\n",
              "    </tr>\n",
              "    <tr>\n",
              "      <th>23</th>\n",
              "      <td>(0, 1, 0)</td>\n",
              "      <td>(1, 1, 1, 12)</td>\n",
              "      <td>19009.286110</td>\n",
              "    </tr>\n",
              "    <tr>\n",
              "      <th>63</th>\n",
              "      <td>(1, 1, 1)</td>\n",
              "      <td>(1, 1, 1, 12)</td>\n",
              "      <td>19011.472166</td>\n",
              "    </tr>\n",
              "    <tr>\n",
              "      <th>59</th>\n",
              "      <td>(1, 1, 1)</td>\n",
              "      <td>(0, 1, 1, 12)</td>\n",
              "      <td>19011.967429</td>\n",
              "    </tr>\n",
              "    <tr>\n",
              "      <th>...</th>\n",
              "      <td>...</td>\n",
              "      <td>...</td>\n",
              "      <td>...</td>\n",
              "    </tr>\n",
              "    <tr>\n",
              "      <th>9</th>\n",
              "      <td>(0, 0, 1)</td>\n",
              "      <td>(0, 0, 1, 12)</td>\n",
              "      <td>20243.619505</td>\n",
              "    </tr>\n",
              "    <tr>\n",
              "      <th>12</th>\n",
              "      <td>(0, 0, 1)</td>\n",
              "      <td>(1, 0, 0, 12)</td>\n",
              "      <td>20256.568197</td>\n",
              "    </tr>\n",
              "    <tr>\n",
              "      <th>1</th>\n",
              "      <td>(0, 0, 0)</td>\n",
              "      <td>(0, 0, 1, 12)</td>\n",
              "      <td>20486.120636</td>\n",
              "    </tr>\n",
              "    <tr>\n",
              "      <th>8</th>\n",
              "      <td>(0, 0, 1)</td>\n",
              "      <td>(0, 0, 0, 12)</td>\n",
              "      <td>20744.606738</td>\n",
              "    </tr>\n",
              "    <tr>\n",
              "      <th>0</th>\n",
              "      <td>(0, 0, 0)</td>\n",
              "      <td>(0, 0, 0, 12)</td>\n",
              "      <td>21187.142381</td>\n",
              "    </tr>\n",
              "  </tbody>\n",
              "</table>\n",
              "<p>64 rows × 3 columns</p>\n",
              "</div>"
            ],
            "text/plain": [
              "    Parameter       Seasonal           AIC\n",
              "43  (1, 0, 1)  (0, 1, 1, 12)  18983.237154\n",
              "47  (1, 0, 1)  (1, 1, 1, 12)  18983.666910\n",
              "23  (0, 1, 0)  (1, 1, 1, 12)  19009.286110\n",
              "63  (1, 1, 1)  (1, 1, 1, 12)  19011.472166\n",
              "59  (1, 1, 1)  (0, 1, 1, 12)  19011.967429\n",
              "..        ...            ...           ...\n",
              "9   (0, 0, 1)  (0, 0, 1, 12)  20243.619505\n",
              "12  (0, 0, 1)  (1, 0, 0, 12)  20256.568197\n",
              "1   (0, 0, 0)  (0, 0, 1, 12)  20486.120636\n",
              "8   (0, 0, 1)  (0, 0, 0, 12)  20744.606738\n",
              "0   (0, 0, 0)  (0, 0, 0, 12)  21187.142381\n",
              "\n",
              "[64 rows x 3 columns]"
            ]
          },
          "metadata": {
            "tags": []
          },
          "execution_count": 47
        }
      ]
    },
    {
      "cell_type": "markdown",
      "metadata": {
        "id": "4UjhVkaIbwL4"
      },
      "source": [
        "-> AIC 값이 낮을수록 변동이 없고 정확하다!"
      ]
    },
    {
      "cell_type": "code",
      "metadata": {
        "colab": {
          "base_uri": "https://localhost:8080/"
        },
        "id": "9nT6B405am-x",
        "outputId": "979f90c7-b26b-4b48-d460-007a629c3953"
      },
      "source": [
        "mod = tsa.statespace.SARIMAX(y1,order=(1, 0, 1),seasonal_order=(1, 0, 1, 12),\n",
        "                              enforce_stationarity=False, enforce_invertibility=False)\n",
        "results = mod.fit()\n",
        "print(results.summary().tables[1])"
      ],
      "execution_count": 48,
      "outputs": [
        {
          "output_type": "stream",
          "text": [
            "==============================================================================\n",
            "                 coef    std err          z      P>|z|      [0.025      0.975]\n",
            "------------------------------------------------------------------------------\n",
            "ar.L1          0.5895      0.037     15.767      0.000       0.516       0.663\n",
            "ma.L1          0.2723      0.045      6.096      0.000       0.185       0.360\n",
            "ar.S.L12       0.9777      0.011     86.924      0.000       0.956       1.000\n",
            "ma.S.L12      -0.7739      0.038    -20.540      0.000      -0.848      -0.700\n",
            "sigma2      2.882e+13   3.25e-16   8.86e+28      0.000    2.88e+13    2.88e+13\n",
            "==============================================================================\n"
          ],
          "name": "stdout"
        }
      ]
    }
  ]
}