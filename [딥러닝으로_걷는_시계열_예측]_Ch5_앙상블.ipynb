{
  "nbformat": 4,
  "nbformat_minor": 0,
  "metadata": {
    "colab": {
      "name": "[딥러닝으로 걷는 시계열 예측] Ch5. 앙상블.ipynb",
      "provenance": [],
      "collapsed_sections": [],
      "toc_visible": true,
      "authorship_tag": "ABX9TyPVCUCaxT23ad039kjFciwd",
      "include_colab_link": true
    },
    "kernelspec": {
      "name": "python3",
      "display_name": "Python 3"
    },
    "language_info": {
      "name": "python"
    }
  },
  "cells": [
    {
      "cell_type": "markdown",
      "metadata": {
        "id": "view-in-github",
        "colab_type": "text"
      },
      "source": [
        "<a href=\"https://colab.research.google.com/github/dianakang/DIANA_TimeSeries/blob/master/%5B%EB%94%A5%EB%9F%AC%EB%8B%9D%EC%9C%BC%EB%A1%9C_%EA%B1%B7%EB%8A%94_%EC%8B%9C%EA%B3%84%EC%97%B4_%EC%98%88%EC%B8%A1%5D_Ch5_%EC%95%99%EC%83%81%EB%B8%94.ipynb\" target=\"_parent\"><img src=\"https://colab.research.google.com/assets/colab-badge.svg\" alt=\"Open In Colab\"/></a>"
      ]
    },
    {
      "cell_type": "markdown",
      "metadata": {
        "id": "qPKAS1FX-LtH"
      },
      "source": [
        "# 목차\n",
        "\n",
        "*   5.1. concatenate 메서드 - 여러 모델 합치기\n",
        "*   5.2. Merge Layer\n",
        "  *   5.2.1. Add()\n",
        "  *   5.2.2. Subtract()\n",
        "  *   5.2.3. Multiply()\n",
        "  *   5.2.4. Average()\n",
        "  *   5.2.5. Maximum()\n",
        "  *   5.2.6. Minimun()\n",
        "  *   5.2.7. Concatenate()\n",
        "  *   5.2.8. Dot()\n",
        "  *   5.2.9. add()\n",
        "  *   5.2.10. subtract()\n",
        "  *   5.2.11. multiply()\n",
        "  *   5.2.12. average()\n",
        "  *   5.2.13. maximum()\n",
        "  *   5.2.14. minimum()\n",
        "  *   5.2.15. concatenate()\n",
        "  *   5.2.16. dot()\n",
        "\n",
        "\n",
        "\n",
        "---"
      ]
    },
    {
      "cell_type": "markdown",
      "metadata": {
        "id": "oNgppQts-Ne9"
      },
      "source": [
        "# 5. 앙상블"
      ]
    },
    {
      "cell_type": "markdown",
      "metadata": {
        "id": "zCt7gYOI-SSf"
      },
      "source": [
        "## 5.1. concatenate 메서드 - 여러 모델 합치기"
      ]
    },
    {
      "cell_type": "markdown",
      "metadata": {
        "id": "euSJv96R-aq4"
      },
      "source": [
        "이번 5장에서는 여러개의 모델을 합치는 방법을 배울 것이다. 각각 300개의 데이터를 가지고 있는 2개의 x와 100개의 데이터를 가지고 있는 1개의 y를 준비한다."
      ]
    },
    {
      "cell_type": "code",
      "metadata": {
        "colab": {
          "base_uri": "https://localhost:8080/"
        },
        "id": "Sce0SVZP-GDS",
        "outputId": "e514358c-51f6-4908-e285-39a7fae2db81"
      },
      "source": [
        "# 1. 데이터 준비하기\n",
        "import numpy as np\n",
        "\n",
        "x1 = np.array([range(100), range(311,411), range(100)])\n",
        "x2 = np.array([range(101,201), range(311,411), range(101,201)])\n",
        "\n",
        "y = np.array([range(501,601)])\n",
        "\n",
        "# 행열 변환 - 현재의 shape은 (3,100)이므로 (100,3)으로 reshape 해야한다.\n",
        "x1 = np.transpose(x1)\n",
        "y = np.transpose(y)\n",
        "x2 = np.transpose(x2)\n",
        "\n",
        "# train, test, validation 분리\n",
        "from sklearn.model_selection import train_test_split\n",
        "x1_train, x1_test, y_train, y_test = train_test_split(x1, y, random_state=66, test_size=0.4, shuffle=False)\n",
        "x1_val, x1_test, y_val, y_test = train_test_split(x1_test, y_test, random_state=66, test_size=0.5, shuffle=False)\n",
        "\n",
        "x2_train, x2_test = train_test_split(x2, random_state=66, test_size=0.4, shuffle=False)\n",
        "x2_val, x2_test = train_test_split(x2_test, random_state=66, test_size=0.5, shuffle=False)\n",
        "\n",
        "\n",
        "# 2. 모델 구성하기 - 앙상블 모델\n",
        "from keras.models import Sequential, Model\n",
        "from keras.layers import Dense, Input\n",
        "\n",
        "## Input 레이어를 이용해 레이어 만들기\n",
        "input1 = Input(shape=(3,))  ## 함수형 모델로 input1 만들기\n",
        "dense1 = Dense(100, activation='relu')(input1)\n",
        "dense1_2 = Dense(30)(dense1)\n",
        "dense1_3 = Dense(7)(dense1_2)\n",
        "\n",
        "input2 = Input(shape=(3,))\n",
        "dense2 = Dense(50, activation='relu')(input2)\n",
        "dense2_2 = Dense(7)(dense2)\n",
        "\n",
        "# input1과 input2를 merge하기 -> concatenate 함수 이용\n",
        "from keras.layers.merge import concatenate\n",
        "merge1 = concatenate([dense1_3, dense2_2])   ## concatenate 함수에 매개변수로 상단 2개의 모델 최하위 레이어의 이름, 리스트 방식([])으로 입력\n",
        "\n",
        "# Concatenate 클래스 이용 -> 사용법은 concatenate와 거의 유사하며 ()를 더 붙여주면 된다.\n",
        "from keras.layers.merge import Concatenate\n",
        "merge1 = Concatenate()([dense1_3, dense2_2])\n",
        "\n",
        "# 레이어 엮어주기\n",
        "model1 = Dense(10)(merge1)\n",
        "model2 = Dense(5)(model1)\n",
        "output = Dense(1)(model2)\n",
        "\n",
        "# 모델 정의하기 - Model() 사용\n",
        "model = Model(inputs = [input1, input2], outputs = output)\n",
        "model.summary()\n"
      ],
      "execution_count": 10,
      "outputs": [
        {
          "output_type": "stream",
          "text": [
            "Model: \"model_2\"\n",
            "__________________________________________________________________________________________________\n",
            "Layer (type)                    Output Shape         Param #     Connected to                     \n",
            "==================================================================================================\n",
            "input_7 (InputLayer)            [(None, 3)]          0                                            \n",
            "__________________________________________________________________________________________________\n",
            "dense_21 (Dense)                (None, 100)          400         input_7[0][0]                    \n",
            "__________________________________________________________________________________________________\n",
            "input_8 (InputLayer)            [(None, 3)]          0                                            \n",
            "__________________________________________________________________________________________________\n",
            "dense_22 (Dense)                (None, 30)           3030        dense_21[0][0]                   \n",
            "__________________________________________________________________________________________________\n",
            "dense_24 (Dense)                (None, 50)           200         input_8[0][0]                    \n",
            "__________________________________________________________________________________________________\n",
            "dense_23 (Dense)                (None, 7)            217         dense_22[0][0]                   \n",
            "__________________________________________________________________________________________________\n",
            "dense_25 (Dense)                (None, 7)            357         dense_24[0][0]                   \n",
            "__________________________________________________________________________________________________\n",
            "concatenate_6 (Concatenate)     (None, 14)           0           dense_23[0][0]                   \n",
            "                                                                 dense_25[0][0]                   \n",
            "__________________________________________________________________________________________________\n",
            "dense_26 (Dense)                (None, 10)           150         concatenate_6[0][0]              \n",
            "__________________________________________________________________________________________________\n",
            "dense_27 (Dense)                (None, 5)            55          dense_26[0][0]                   \n",
            "__________________________________________________________________________________________________\n",
            "dense_28 (Dense)                (None, 1)            6           dense_27[0][0]                   \n",
            "==================================================================================================\n",
            "Total params: 4,415\n",
            "Trainable params: 4,415\n",
            "Non-trainable params: 0\n",
            "__________________________________________________________________________________________________\n"
          ],
          "name": "stdout"
        }
      ]
    },
    {
      "cell_type": "markdown",
      "metadata": {
        "id": "caZ4INPgFqEh"
      },
      "source": [
        "-> 다섯 번째 dense와 여섯 번째 dense 사이에서 conatenate가 잘 이루어진 것을 확인할 수 있다."
      ]
    },
    {
      "cell_type": "code",
      "metadata": {
        "colab": {
          "base_uri": "https://localhost:8080/"
        },
        "id": "2QJjtaDj_T9l",
        "outputId": "f487c8e2-37e1-4823-b22e-8480f71e68d4"
      },
      "source": [
        "# 3. 모델 훈련\n",
        "model.compile(loss='mse', optimizer='adam', metrics=['mse'])\n",
        "model.fit([x1_train, x2_train],\n",
        "          y_train, epochs=300, batch_size=1,\n",
        "validation_data=([x1_val, x2_val] , y_val))"
      ],
      "execution_count": 13,
      "outputs": [
        {
          "output_type": "stream",
          "text": [
            "Epoch 1/300\n",
            "60/60 [==============================] - 1s 5ms/step - loss: 151.0917 - mse: 151.0917 - val_loss: 13.3818 - val_mse: 13.3818\n",
            "Epoch 2/300\n",
            "60/60 [==============================] - 0s 2ms/step - loss: 0.7025 - mse: 0.7025 - val_loss: 13.1193 - val_mse: 13.1193\n",
            "Epoch 3/300\n",
            "60/60 [==============================] - 0s 3ms/step - loss: 0.0625 - mse: 0.0625 - val_loss: 12.3252 - val_mse: 12.3252\n",
            "Epoch 4/300\n",
            "60/60 [==============================] - 0s 3ms/step - loss: 0.0326 - mse: 0.0326 - val_loss: 9.0344 - val_mse: 9.0344\n",
            "Epoch 5/300\n",
            "60/60 [==============================] - 0s 2ms/step - loss: 0.2688 - mse: 0.2688 - val_loss: 17.4953 - val_mse: 17.4953\n",
            "Epoch 6/300\n",
            "60/60 [==============================] - 0s 2ms/step - loss: 0.6402 - mse: 0.6402 - val_loss: 13.8744 - val_mse: 13.8744\n",
            "Epoch 7/300\n",
            "60/60 [==============================] - 0s 2ms/step - loss: 0.1286 - mse: 0.1286 - val_loss: 12.2093 - val_mse: 12.2093\n",
            "Epoch 8/300\n",
            "60/60 [==============================] - 0s 3ms/step - loss: 0.0135 - mse: 0.0135 - val_loss: 10.2439 - val_mse: 10.2439\n",
            "Epoch 9/300\n",
            "60/60 [==============================] - 0s 3ms/step - loss: 0.0635 - mse: 0.0635 - val_loss: 14.2723 - val_mse: 14.2723\n",
            "Epoch 10/300\n",
            "60/60 [==============================] - 0s 3ms/step - loss: 0.0461 - mse: 0.0461 - val_loss: 12.9735 - val_mse: 12.9735\n",
            "Epoch 11/300\n",
            "60/60 [==============================] - 0s 2ms/step - loss: 0.0307 - mse: 0.0307 - val_loss: 10.9318 - val_mse: 10.9318\n",
            "Epoch 12/300\n",
            "60/60 [==============================] - 0s 2ms/step - loss: 0.0239 - mse: 0.0239 - val_loss: 12.5200 - val_mse: 12.5200\n",
            "Epoch 13/300\n",
            "60/60 [==============================] - 0s 2ms/step - loss: 0.0179 - mse: 0.0179 - val_loss: 13.3298 - val_mse: 13.3298\n",
            "Epoch 14/300\n",
            "60/60 [==============================] - 0s 2ms/step - loss: 0.2143 - mse: 0.2143 - val_loss: 3.8003 - val_mse: 3.8003\n",
            "Epoch 15/300\n",
            "60/60 [==============================] - 0s 2ms/step - loss: 9.9236 - mse: 9.9236 - val_loss: 19.7908 - val_mse: 19.7908\n",
            "Epoch 16/300\n",
            "60/60 [==============================] - 0s 3ms/step - loss: 13.7093 - mse: 13.7093 - val_loss: 14.9865 - val_mse: 14.9865\n",
            "Epoch 17/300\n",
            "60/60 [==============================] - 0s 2ms/step - loss: 0.4651 - mse: 0.4651 - val_loss: 21.6236 - val_mse: 21.6236\n",
            "Epoch 18/300\n",
            "60/60 [==============================] - 0s 2ms/step - loss: 1.6276 - mse: 1.6276 - val_loss: 17.6017 - val_mse: 17.6017\n",
            "Epoch 19/300\n",
            "60/60 [==============================] - 0s 2ms/step - loss: 0.4219 - mse: 0.4219 - val_loss: 7.7790 - val_mse: 7.7790\n",
            "Epoch 20/300\n",
            "60/60 [==============================] - 0s 3ms/step - loss: 1.2540 - mse: 1.2540 - val_loss: 8.8519 - val_mse: 8.8519\n",
            "Epoch 21/300\n",
            "60/60 [==============================] - 0s 3ms/step - loss: 0.8630 - mse: 0.8630 - val_loss: 9.1793 - val_mse: 9.1793\n",
            "Epoch 22/300\n",
            "60/60 [==============================] - 0s 2ms/step - loss: 0.4424 - mse: 0.4424 - val_loss: 18.9901 - val_mse: 18.9901\n",
            "Epoch 23/300\n",
            "60/60 [==============================] - 0s 2ms/step - loss: 1.1131 - mse: 1.1131 - val_loss: 6.9091 - val_mse: 6.9091\n",
            "Epoch 24/300\n",
            "60/60 [==============================] - 0s 3ms/step - loss: 3.1318 - mse: 3.1318 - val_loss: 8.8211 - val_mse: 8.8211\n",
            "Epoch 25/300\n",
            "60/60 [==============================] - 0s 2ms/step - loss: 7.7036 - mse: 7.7036 - val_loss: 4.0791 - val_mse: 4.0791\n",
            "Epoch 26/300\n",
            "60/60 [==============================] - 0s 2ms/step - loss: 3.6570 - mse: 3.6570 - val_loss: 7.6190 - val_mse: 7.6190\n",
            "Epoch 27/300\n",
            "60/60 [==============================] - 0s 3ms/step - loss: 5.1518 - mse: 5.1518 - val_loss: 2.3116 - val_mse: 2.3116\n",
            "Epoch 28/300\n",
            "60/60 [==============================] - 0s 3ms/step - loss: 4.5758 - mse: 4.5758 - val_loss: 12.2550 - val_mse: 12.2550\n",
            "Epoch 29/300\n",
            "60/60 [==============================] - 0s 3ms/step - loss: 0.3773 - mse: 0.3773 - val_loss: 19.4732 - val_mse: 19.4732\n",
            "Epoch 30/300\n",
            "60/60 [==============================] - 0s 3ms/step - loss: 0.3281 - mse: 0.3281 - val_loss: 14.2825 - val_mse: 14.2825\n",
            "Epoch 31/300\n",
            "60/60 [==============================] - 0s 3ms/step - loss: 0.6753 - mse: 0.6753 - val_loss: 9.8754 - val_mse: 9.8754\n",
            "Epoch 32/300\n",
            "60/60 [==============================] - 0s 2ms/step - loss: 0.1206 - mse: 0.1206 - val_loss: 7.2352 - val_mse: 7.2352\n",
            "Epoch 33/300\n",
            "60/60 [==============================] - 0s 2ms/step - loss: 0.0799 - mse: 0.0799 - val_loss: 11.8761 - val_mse: 11.8761\n",
            "Epoch 34/300\n",
            "60/60 [==============================] - 0s 2ms/step - loss: 0.3304 - mse: 0.3304 - val_loss: 6.1235 - val_mse: 6.1235\n",
            "Epoch 35/300\n",
            "60/60 [==============================] - 0s 3ms/step - loss: 0.1606 - mse: 0.1606 - val_loss: 5.6152 - val_mse: 5.6152\n",
            "Epoch 36/300\n",
            "60/60 [==============================] - 0s 2ms/step - loss: 0.8529 - mse: 0.8529 - val_loss: 6.5972 - val_mse: 6.5972\n",
            "Epoch 37/300\n",
            "60/60 [==============================] - 0s 3ms/step - loss: 3.9048 - mse: 3.9048 - val_loss: 15.7097 - val_mse: 15.7097\n",
            "Epoch 38/300\n",
            "60/60 [==============================] - 0s 2ms/step - loss: 1.9372 - mse: 1.9372 - val_loss: 22.8207 - val_mse: 22.8207\n",
            "Epoch 39/300\n",
            "60/60 [==============================] - 0s 3ms/step - loss: 7.9765 - mse: 7.9765 - val_loss: 157.0159 - val_mse: 157.0159\n",
            "Epoch 40/300\n",
            "60/60 [==============================] - 0s 3ms/step - loss: 82.9638 - mse: 82.9638 - val_loss: 41.8977 - val_mse: 41.8977\n",
            "Epoch 41/300\n",
            "60/60 [==============================] - 0s 2ms/step - loss: 4.8744 - mse: 4.8744 - val_loss: 7.7454 - val_mse: 7.7454\n",
            "Epoch 42/300\n",
            "60/60 [==============================] - 0s 3ms/step - loss: 0.0226 - mse: 0.0226 - val_loss: 6.5141 - val_mse: 6.5141\n",
            "Epoch 43/300\n",
            "60/60 [==============================] - 0s 3ms/step - loss: 0.0046 - mse: 0.0046 - val_loss: 7.3030 - val_mse: 7.3030\n",
            "Epoch 44/300\n",
            "60/60 [==============================] - 0s 3ms/step - loss: 0.0091 - mse: 0.0091 - val_loss: 6.7023 - val_mse: 6.7023\n",
            "Epoch 45/300\n",
            "60/60 [==============================] - 0s 2ms/step - loss: 0.1390 - mse: 0.1390 - val_loss: 7.9059 - val_mse: 7.9059\n",
            "Epoch 46/300\n",
            "60/60 [==============================] - 0s 3ms/step - loss: 0.0095 - mse: 0.0095 - val_loss: 6.5701 - val_mse: 6.5701\n",
            "Epoch 47/300\n",
            "60/60 [==============================] - 0s 3ms/step - loss: 0.0389 - mse: 0.0389 - val_loss: 5.0618 - val_mse: 5.0618\n",
            "Epoch 48/300\n",
            "60/60 [==============================] - 0s 3ms/step - loss: 0.0896 - mse: 0.0896 - val_loss: 6.6704 - val_mse: 6.6704\n",
            "Epoch 49/300\n",
            "60/60 [==============================] - 0s 3ms/step - loss: 0.0443 - mse: 0.0443 - val_loss: 5.8678 - val_mse: 5.8678\n",
            "Epoch 50/300\n",
            "60/60 [==============================] - 0s 3ms/step - loss: 0.0210 - mse: 0.0210 - val_loss: 6.0896 - val_mse: 6.0896\n",
            "Epoch 51/300\n",
            "60/60 [==============================] - 0s 3ms/step - loss: 0.0242 - mse: 0.0242 - val_loss: 7.0601 - val_mse: 7.0601\n",
            "Epoch 52/300\n",
            "60/60 [==============================] - 0s 3ms/step - loss: 0.0064 - mse: 0.0064 - val_loss: 7.0763 - val_mse: 7.0763\n",
            "Epoch 53/300\n",
            "60/60 [==============================] - 0s 3ms/step - loss: 0.0138 - mse: 0.0138 - val_loss: 6.7343 - val_mse: 6.7343\n",
            "Epoch 54/300\n",
            "60/60 [==============================] - 0s 2ms/step - loss: 0.0388 - mse: 0.0388 - val_loss: 6.9812 - val_mse: 6.9812\n",
            "Epoch 55/300\n",
            "60/60 [==============================] - 0s 3ms/step - loss: 0.0738 - mse: 0.0738 - val_loss: 8.4901 - val_mse: 8.4901\n",
            "Epoch 56/300\n",
            "60/60 [==============================] - 0s 3ms/step - loss: 0.0494 - mse: 0.0494 - val_loss: 3.9203 - val_mse: 3.9203\n",
            "Epoch 57/300\n",
            "60/60 [==============================] - 0s 3ms/step - loss: 0.1393 - mse: 0.1393 - val_loss: 3.8517 - val_mse: 3.8517\n",
            "Epoch 58/300\n",
            "60/60 [==============================] - 0s 3ms/step - loss: 0.6829 - mse: 0.6829 - val_loss: 8.5672 - val_mse: 8.5672\n",
            "Epoch 59/300\n",
            "60/60 [==============================] - 0s 3ms/step - loss: 2.5359 - mse: 2.5359 - val_loss: 44.6021 - val_mse: 44.6021\n",
            "Epoch 60/300\n",
            "60/60 [==============================] - 0s 3ms/step - loss: 9.5485 - mse: 9.5485 - val_loss: 1.7873 - val_mse: 1.7873\n",
            "Epoch 61/300\n",
            "60/60 [==============================] - 0s 3ms/step - loss: 1.0363 - mse: 1.0363 - val_loss: 5.0336 - val_mse: 5.0336\n",
            "Epoch 62/300\n",
            "60/60 [==============================] - 0s 3ms/step - loss: 0.0570 - mse: 0.0570 - val_loss: 7.7600 - val_mse: 7.7600\n",
            "Epoch 63/300\n",
            "60/60 [==============================] - 0s 3ms/step - loss: 0.0576 - mse: 0.0576 - val_loss: 8.8786 - val_mse: 8.8786\n",
            "Epoch 64/300\n",
            "60/60 [==============================] - 0s 3ms/step - loss: 0.1902 - mse: 0.1902 - val_loss: 7.6970 - val_mse: 7.6970\n",
            "Epoch 65/300\n",
            "60/60 [==============================] - 0s 2ms/step - loss: 0.0211 - mse: 0.0211 - val_loss: 6.9725 - val_mse: 6.9725\n",
            "Epoch 66/300\n",
            "60/60 [==============================] - 0s 3ms/step - loss: 0.0131 - mse: 0.0131 - val_loss: 4.7943 - val_mse: 4.7943\n",
            "Epoch 67/300\n",
            "60/60 [==============================] - 0s 3ms/step - loss: 0.0804 - mse: 0.0804 - val_loss: 5.5720 - val_mse: 5.5720\n",
            "Epoch 68/300\n",
            "60/60 [==============================] - 0s 3ms/step - loss: 1.0259 - mse: 1.0259 - val_loss: 9.2145 - val_mse: 9.2145\n",
            "Epoch 69/300\n",
            "60/60 [==============================] - 0s 2ms/step - loss: 0.3282 - mse: 0.3282 - val_loss: 7.1549 - val_mse: 7.1549\n",
            "Epoch 70/300\n",
            "60/60 [==============================] - 0s 3ms/step - loss: 1.1873 - mse: 1.1873 - val_loss: 70.3753 - val_mse: 70.3753\n",
            "Epoch 71/300\n",
            "60/60 [==============================] - 0s 3ms/step - loss: 13.2251 - mse: 13.2251 - val_loss: 6.1065 - val_mse: 6.1065\n",
            "Epoch 72/300\n",
            "60/60 [==============================] - 0s 3ms/step - loss: 0.2254 - mse: 0.2254 - val_loss: 3.8666 - val_mse: 3.8666\n",
            "Epoch 73/300\n",
            "60/60 [==============================] - 0s 3ms/step - loss: 0.0744 - mse: 0.0744 - val_loss: 4.0949 - val_mse: 4.0949\n",
            "Epoch 74/300\n",
            "60/60 [==============================] - 0s 3ms/step - loss: 0.4936 - mse: 0.4936 - val_loss: 1.6640 - val_mse: 1.6640\n",
            "Epoch 75/300\n",
            "60/60 [==============================] - 0s 2ms/step - loss: 1.3541 - mse: 1.3541 - val_loss: 4.9025 - val_mse: 4.9025\n",
            "Epoch 76/300\n",
            "60/60 [==============================] - 0s 3ms/step - loss: 1.8737 - mse: 1.8737 - val_loss: 7.9379 - val_mse: 7.9379\n",
            "Epoch 77/300\n",
            "60/60 [==============================] - 0s 3ms/step - loss: 0.8090 - mse: 0.8090 - val_loss: 2.5501 - val_mse: 2.5501\n",
            "Epoch 78/300\n",
            "60/60 [==============================] - 0s 3ms/step - loss: 9.7089 - mse: 9.7089 - val_loss: 97.4660 - val_mse: 97.4660\n",
            "Epoch 79/300\n",
            "60/60 [==============================] - 0s 3ms/step - loss: 34.4332 - mse: 34.4332 - val_loss: 4.0072 - val_mse: 4.0072\n",
            "Epoch 80/300\n",
            "60/60 [==============================] - 0s 3ms/step - loss: 1.6724 - mse: 1.6724 - val_loss: 2.5527 - val_mse: 2.5527\n",
            "Epoch 81/300\n",
            "60/60 [==============================] - 0s 3ms/step - loss: 7.8692 - mse: 7.8692 - val_loss: 5.8458 - val_mse: 5.8458\n",
            "Epoch 82/300\n",
            "60/60 [==============================] - 0s 3ms/step - loss: 2.0794 - mse: 2.0794 - val_loss: 6.2074 - val_mse: 6.2074\n",
            "Epoch 83/300\n",
            "60/60 [==============================] - 0s 3ms/step - loss: 0.0259 - mse: 0.0259 - val_loss: 6.1728 - val_mse: 6.1728\n",
            "Epoch 84/300\n",
            "60/60 [==============================] - 0s 3ms/step - loss: 0.0068 - mse: 0.0068 - val_loss: 5.4206 - val_mse: 5.4206\n",
            "Epoch 85/300\n",
            "60/60 [==============================] - 0s 3ms/step - loss: 0.0058 - mse: 0.0058 - val_loss: 5.5451 - val_mse: 5.5451\n",
            "Epoch 86/300\n",
            "60/60 [==============================] - 0s 3ms/step - loss: 3.1102e-04 - mse: 3.1102e-04 - val_loss: 5.3887 - val_mse: 5.3887\n",
            "Epoch 87/300\n",
            "60/60 [==============================] - 0s 2ms/step - loss: 0.0020 - mse: 0.0020 - val_loss: 5.4293 - val_mse: 5.4293\n",
            "Epoch 88/300\n",
            "60/60 [==============================] - 0s 2ms/step - loss: 0.0016 - mse: 0.0016 - val_loss: 4.6338 - val_mse: 4.6338\n",
            "Epoch 89/300\n",
            "60/60 [==============================] - 0s 3ms/step - loss: 0.0170 - mse: 0.0170 - val_loss: 5.4729 - val_mse: 5.4729\n",
            "Epoch 90/300\n",
            "60/60 [==============================] - 0s 3ms/step - loss: 5.1359e-04 - mse: 5.1359e-04 - val_loss: 6.0761 - val_mse: 6.0761\n",
            "Epoch 91/300\n",
            "60/60 [==============================] - 0s 3ms/step - loss: 0.0052 - mse: 0.0052 - val_loss: 5.7571 - val_mse: 5.7571\n",
            "Epoch 92/300\n",
            "60/60 [==============================] - 0s 3ms/step - loss: 0.0022 - mse: 0.0022 - val_loss: 5.6881 - val_mse: 5.6881\n",
            "Epoch 93/300\n",
            "60/60 [==============================] - 0s 3ms/step - loss: 0.0147 - mse: 0.0147 - val_loss: 5.2786 - val_mse: 5.2786\n",
            "Epoch 94/300\n",
            "60/60 [==============================] - 0s 2ms/step - loss: 0.0483 - mse: 0.0483 - val_loss: 5.7206 - val_mse: 5.7206\n",
            "Epoch 95/300\n",
            "60/60 [==============================] - 0s 3ms/step - loss: 0.0016 - mse: 0.0016 - val_loss: 5.7007 - val_mse: 5.7007\n",
            "Epoch 96/300\n",
            "60/60 [==============================] - 0s 3ms/step - loss: 0.0055 - mse: 0.0055 - val_loss: 5.2530 - val_mse: 5.2530\n",
            "Epoch 97/300\n",
            "60/60 [==============================] - 0s 3ms/step - loss: 0.0140 - mse: 0.0140 - val_loss: 5.8042 - val_mse: 5.8042\n",
            "Epoch 98/300\n",
            "60/60 [==============================] - 0s 3ms/step - loss: 0.0090 - mse: 0.0090 - val_loss: 3.8926 - val_mse: 3.8926\n",
            "Epoch 99/300\n",
            "60/60 [==============================] - 0s 3ms/step - loss: 0.2351 - mse: 0.2351 - val_loss: 5.3380 - val_mse: 5.3380\n",
            "Epoch 100/300\n",
            "60/60 [==============================] - 0s 3ms/step - loss: 0.2096 - mse: 0.2096 - val_loss: 5.6041 - val_mse: 5.6041\n",
            "Epoch 101/300\n",
            "60/60 [==============================] - 0s 2ms/step - loss: 0.2352 - mse: 0.2352 - val_loss: 7.2928 - val_mse: 7.2928\n",
            "Epoch 102/300\n",
            "60/60 [==============================] - 0s 3ms/step - loss: 2.0312 - mse: 2.0312 - val_loss: 39.3601 - val_mse: 39.3601\n",
            "Epoch 103/300\n",
            "60/60 [==============================] - 0s 3ms/step - loss: 16.6294 - mse: 16.6294 - val_loss: 65.5372 - val_mse: 65.5372\n",
            "Epoch 104/300\n",
            "60/60 [==============================] - 0s 3ms/step - loss: 3.1089 - mse: 3.1089 - val_loss: 5.1196 - val_mse: 5.1196\n",
            "Epoch 105/300\n",
            "60/60 [==============================] - 0s 2ms/step - loss: 0.1014 - mse: 0.1014 - val_loss: 1.5626 - val_mse: 1.5626\n",
            "Epoch 106/300\n",
            "60/60 [==============================] - 0s 3ms/step - loss: 1.2007 - mse: 1.2007 - val_loss: 1.4421 - val_mse: 1.4421\n",
            "Epoch 107/300\n",
            "60/60 [==============================] - 0s 2ms/step - loss: 0.4917 - mse: 0.4917 - val_loss: 6.5301 - val_mse: 6.5301\n",
            "Epoch 108/300\n",
            "60/60 [==============================] - 0s 3ms/step - loss: 0.1165 - mse: 0.1165 - val_loss: 5.8172 - val_mse: 5.8172\n",
            "Epoch 109/300\n",
            "60/60 [==============================] - 0s 3ms/step - loss: 0.0212 - mse: 0.0212 - val_loss: 3.6579 - val_mse: 3.6579\n",
            "Epoch 110/300\n",
            "60/60 [==============================] - 0s 3ms/step - loss: 0.0910 - mse: 0.0910 - val_loss: 4.1904 - val_mse: 4.1904\n",
            "Epoch 111/300\n",
            "60/60 [==============================] - 0s 3ms/step - loss: 0.0325 - mse: 0.0325 - val_loss: 5.4739 - val_mse: 5.4739\n",
            "Epoch 112/300\n",
            "60/60 [==============================] - 0s 3ms/step - loss: 0.0352 - mse: 0.0352 - val_loss: 4.4969 - val_mse: 4.4969\n",
            "Epoch 113/300\n",
            "60/60 [==============================] - 0s 2ms/step - loss: 0.7551 - mse: 0.7551 - val_loss: 5.3250 - val_mse: 5.3250\n",
            "Epoch 114/300\n",
            "60/60 [==============================] - 0s 3ms/step - loss: 0.0872 - mse: 0.0872 - val_loss: 5.0296 - val_mse: 5.0296\n",
            "Epoch 115/300\n",
            "60/60 [==============================] - 0s 3ms/step - loss: 0.1200 - mse: 0.1200 - val_loss: 3.4372 - val_mse: 3.4372\n",
            "Epoch 116/300\n",
            "60/60 [==============================] - 0s 3ms/step - loss: 0.8645 - mse: 0.8645 - val_loss: 7.1159 - val_mse: 7.1159\n",
            "Epoch 117/300\n",
            "60/60 [==============================] - 0s 3ms/step - loss: 1.7389 - mse: 1.7389 - val_loss: 6.5438 - val_mse: 6.5438\n",
            "Epoch 118/300\n",
            "60/60 [==============================] - 0s 2ms/step - loss: 1.7623 - mse: 1.7623 - val_loss: 3.2767 - val_mse: 3.2767\n",
            "Epoch 119/300\n",
            "60/60 [==============================] - 0s 3ms/step - loss: 8.7181 - mse: 8.7181 - val_loss: 21.5787 - val_mse: 21.5787\n",
            "Epoch 120/300\n",
            "60/60 [==============================] - 0s 2ms/step - loss: 10.1652 - mse: 10.1652 - val_loss: 15.2210 - val_mse: 15.2210\n",
            "Epoch 121/300\n",
            "60/60 [==============================] - 0s 3ms/step - loss: 0.7816 - mse: 0.7816 - val_loss: 4.0053 - val_mse: 4.0053\n",
            "Epoch 122/300\n",
            "60/60 [==============================] - 0s 3ms/step - loss: 0.0605 - mse: 0.0605 - val_loss: 4.9382 - val_mse: 4.9382\n",
            "Epoch 123/300\n",
            "60/60 [==============================] - 0s 2ms/step - loss: 0.0032 - mse: 0.0032 - val_loss: 4.9419 - val_mse: 4.9419\n",
            "Epoch 124/300\n",
            "60/60 [==============================] - 0s 2ms/step - loss: 0.0024 - mse: 0.0024 - val_loss: 4.9258 - val_mse: 4.9258\n",
            "Epoch 125/300\n",
            "60/60 [==============================] - 0s 2ms/step - loss: 0.0034 - mse: 0.0034 - val_loss: 4.7307 - val_mse: 4.7307\n",
            "Epoch 126/300\n",
            "60/60 [==============================] - 0s 3ms/step - loss: 0.0036 - mse: 0.0036 - val_loss: 4.6376 - val_mse: 4.6376\n",
            "Epoch 127/300\n",
            "60/60 [==============================] - 0s 3ms/step - loss: 0.0056 - mse: 0.0056 - val_loss: 4.6078 - val_mse: 4.6078\n",
            "Epoch 128/300\n",
            "60/60 [==============================] - 0s 2ms/step - loss: 0.0015 - mse: 0.0015 - val_loss: 4.8779 - val_mse: 4.8779\n",
            "Epoch 129/300\n",
            "60/60 [==============================] - 0s 2ms/step - loss: 0.0526 - mse: 0.0526 - val_loss: 4.7037 - val_mse: 4.7037\n",
            "Epoch 130/300\n",
            "60/60 [==============================] - 0s 3ms/step - loss: 0.0393 - mse: 0.0393 - val_loss: 5.1706 - val_mse: 5.1706\n",
            "Epoch 131/300\n",
            "60/60 [==============================] - 0s 3ms/step - loss: 0.0331 - mse: 0.0331 - val_loss: 6.0707 - val_mse: 6.0707\n",
            "Epoch 132/300\n",
            "60/60 [==============================] - 0s 3ms/step - loss: 0.0607 - mse: 0.0607 - val_loss: 8.3043 - val_mse: 8.3043\n",
            "Epoch 133/300\n",
            "60/60 [==============================] - 0s 3ms/step - loss: 0.0897 - mse: 0.0897 - val_loss: 5.3553 - val_mse: 5.3553\n",
            "Epoch 134/300\n",
            "60/60 [==============================] - 0s 3ms/step - loss: 0.5990 - mse: 0.5990 - val_loss: 10.1076 - val_mse: 10.1076\n",
            "Epoch 135/300\n",
            "60/60 [==============================] - 0s 3ms/step - loss: 8.5833 - mse: 8.5833 - val_loss: 2.3217 - val_mse: 2.3217\n",
            "Epoch 136/300\n",
            "60/60 [==============================] - 0s 3ms/step - loss: 2.4928 - mse: 2.4928 - val_loss: 1.3543 - val_mse: 1.3543\n",
            "Epoch 137/300\n",
            "60/60 [==============================] - 0s 3ms/step - loss: 0.9399 - mse: 0.9399 - val_loss: 6.0738 - val_mse: 6.0738\n",
            "Epoch 138/300\n",
            "60/60 [==============================] - 0s 2ms/step - loss: 0.1420 - mse: 0.1420 - val_loss: 11.7408 - val_mse: 11.7408\n",
            "Epoch 139/300\n",
            "60/60 [==============================] - 0s 3ms/step - loss: 0.9335 - mse: 0.9335 - val_loss: 30.8565 - val_mse: 30.8565\n",
            "Epoch 140/300\n",
            "60/60 [==============================] - 0s 3ms/step - loss: 21.1367 - mse: 21.1367 - val_loss: 11.5284 - val_mse: 11.5284\n",
            "Epoch 141/300\n",
            "60/60 [==============================] - 0s 3ms/step - loss: 2.1553 - mse: 2.1553 - val_loss: 5.3553 - val_mse: 5.3553\n",
            "Epoch 142/300\n",
            "60/60 [==============================] - 0s 3ms/step - loss: 0.2679 - mse: 0.2679 - val_loss: 3.6016 - val_mse: 3.6016\n",
            "Epoch 143/300\n",
            "60/60 [==============================] - 0s 3ms/step - loss: 0.0904 - mse: 0.0904 - val_loss: 7.4083 - val_mse: 7.4083\n",
            "Epoch 144/300\n",
            "60/60 [==============================] - 0s 2ms/step - loss: 0.3899 - mse: 0.3899 - val_loss: 2.4386 - val_mse: 2.4386\n",
            "Epoch 145/300\n",
            "60/60 [==============================] - 0s 2ms/step - loss: 0.1450 - mse: 0.1450 - val_loss: 1.3572 - val_mse: 1.3572\n",
            "Epoch 146/300\n",
            "60/60 [==============================] - 0s 3ms/step - loss: 0.4576 - mse: 0.4576 - val_loss: 4.8161 - val_mse: 4.8161\n",
            "Epoch 147/300\n",
            "60/60 [==============================] - 0s 3ms/step - loss: 0.0865 - mse: 0.0865 - val_loss: 3.8406 - val_mse: 3.8406\n",
            "Epoch 148/300\n",
            "60/60 [==============================] - 0s 3ms/step - loss: 0.0368 - mse: 0.0368 - val_loss: 4.0493 - val_mse: 4.0493\n",
            "Epoch 149/300\n",
            "60/60 [==============================] - 0s 3ms/step - loss: 0.0169 - mse: 0.0169 - val_loss: 3.5286 - val_mse: 3.5286\n",
            "Epoch 150/300\n",
            "60/60 [==============================] - 0s 2ms/step - loss: 0.2072 - mse: 0.2072 - val_loss: 1.3788 - val_mse: 1.3788\n",
            "Epoch 151/300\n",
            "60/60 [==============================] - 0s 3ms/step - loss: 4.0458 - mse: 4.0458 - val_loss: 3.6091 - val_mse: 3.6091\n",
            "Epoch 152/300\n",
            "60/60 [==============================] - 0s 3ms/step - loss: 0.5634 - mse: 0.5634 - val_loss: 6.3828 - val_mse: 6.3828\n",
            "Epoch 153/300\n",
            "60/60 [==============================] - 0s 3ms/step - loss: 0.2321 - mse: 0.2321 - val_loss: 5.2501 - val_mse: 5.2501\n",
            "Epoch 154/300\n",
            "60/60 [==============================] - 0s 3ms/step - loss: 0.3698 - mse: 0.3698 - val_loss: 3.1233 - val_mse: 3.1233\n",
            "Epoch 155/300\n",
            "60/60 [==============================] - 0s 3ms/step - loss: 0.3329 - mse: 0.3329 - val_loss: 4.4358 - val_mse: 4.4358\n",
            "Epoch 156/300\n",
            "60/60 [==============================] - 0s 3ms/step - loss: 1.4384 - mse: 1.4384 - val_loss: 3.0532 - val_mse: 3.0532\n",
            "Epoch 157/300\n",
            "60/60 [==============================] - 0s 3ms/step - loss: 0.2136 - mse: 0.2136 - val_loss: 3.0390 - val_mse: 3.0390\n",
            "Epoch 158/300\n",
            "60/60 [==============================] - 0s 3ms/step - loss: 1.0215 - mse: 1.0215 - val_loss: 4.4868 - val_mse: 4.4868\n",
            "Epoch 159/300\n",
            "60/60 [==============================] - 0s 3ms/step - loss: 0.3193 - mse: 0.3193 - val_loss: 14.3494 - val_mse: 14.3494\n",
            "Epoch 160/300\n",
            "60/60 [==============================] - 0s 3ms/step - loss: 0.7951 - mse: 0.7951 - val_loss: 17.8476 - val_mse: 17.8476\n",
            "Epoch 161/300\n",
            "60/60 [==============================] - 0s 2ms/step - loss: 11.1837 - mse: 11.1837 - val_loss: 4.4849 - val_mse: 4.4849\n",
            "Epoch 162/300\n",
            "60/60 [==============================] - 0s 3ms/step - loss: 0.3426 - mse: 0.3426 - val_loss: 5.3720 - val_mse: 5.3720\n",
            "Epoch 163/300\n",
            "60/60 [==============================] - 0s 3ms/step - loss: 0.2318 - mse: 0.2318 - val_loss: 1.3938 - val_mse: 1.3938\n",
            "Epoch 164/300\n",
            "60/60 [==============================] - 0s 3ms/step - loss: 0.4048 - mse: 0.4048 - val_loss: 8.3480 - val_mse: 8.3480\n",
            "Epoch 165/300\n",
            "60/60 [==============================] - 0s 3ms/step - loss: 1.9190 - mse: 1.9190 - val_loss: 1.7767 - val_mse: 1.7767\n",
            "Epoch 166/300\n",
            "60/60 [==============================] - 0s 3ms/step - loss: 2.9382 - mse: 2.9382 - val_loss: 11.7373 - val_mse: 11.7373\n",
            "Epoch 167/300\n",
            "60/60 [==============================] - 0s 3ms/step - loss: 2.6490 - mse: 2.6490 - val_loss: 4.1281 - val_mse: 4.1281\n",
            "Epoch 168/300\n",
            "60/60 [==============================] - 0s 3ms/step - loss: 0.8907 - mse: 0.8907 - val_loss: 9.8287 - val_mse: 9.8287\n",
            "Epoch 169/300\n",
            "60/60 [==============================] - 0s 3ms/step - loss: 1.3508 - mse: 1.3508 - val_loss: 3.7084 - val_mse: 3.7084\n",
            "Epoch 170/300\n",
            "60/60 [==============================] - 0s 3ms/step - loss: 0.0112 - mse: 0.0112 - val_loss: 3.6366 - val_mse: 3.6366\n",
            "Epoch 171/300\n",
            "60/60 [==============================] - 0s 3ms/step - loss: 0.0036 - mse: 0.0036 - val_loss: 3.2351 - val_mse: 3.2351\n",
            "Epoch 172/300\n",
            "60/60 [==============================] - 0s 3ms/step - loss: 0.0110 - mse: 0.0110 - val_loss: 3.0409 - val_mse: 3.0409\n",
            "Epoch 173/300\n",
            "60/60 [==============================] - 0s 3ms/step - loss: 0.0153 - mse: 0.0153 - val_loss: 4.9900 - val_mse: 4.9900\n",
            "Epoch 174/300\n",
            "60/60 [==============================] - 0s 3ms/step - loss: 0.1715 - mse: 0.1715 - val_loss: 0.9551 - val_mse: 0.9551\n",
            "Epoch 175/300\n",
            "60/60 [==============================] - 0s 3ms/step - loss: 0.2249 - mse: 0.2249 - val_loss: 3.2323 - val_mse: 3.2323\n",
            "Epoch 176/300\n",
            "60/60 [==============================] - 0s 3ms/step - loss: 0.0534 - mse: 0.0534 - val_loss: 5.4009 - val_mse: 5.4009\n",
            "Epoch 177/300\n",
            "60/60 [==============================] - 0s 3ms/step - loss: 0.1416 - mse: 0.1416 - val_loss: 4.1659 - val_mse: 4.1659\n",
            "Epoch 178/300\n",
            "60/60 [==============================] - 0s 3ms/step - loss: 0.6634 - mse: 0.6634 - val_loss: 7.0934 - val_mse: 7.0934\n",
            "Epoch 179/300\n",
            "60/60 [==============================] - 0s 3ms/step - loss: 2.4304 - mse: 2.4304 - val_loss: 8.7203 - val_mse: 8.7203\n",
            "Epoch 180/300\n",
            "60/60 [==============================] - 0s 3ms/step - loss: 1.2145 - mse: 1.2145 - val_loss: 5.3962 - val_mse: 5.3962\n",
            "Epoch 181/300\n",
            "60/60 [==============================] - 0s 3ms/step - loss: 1.0825 - mse: 1.0825 - val_loss: 110.1287 - val_mse: 110.1287\n",
            "Epoch 182/300\n",
            "60/60 [==============================] - 0s 3ms/step - loss: 103.5705 - mse: 103.5705 - val_loss: 33.0121 - val_mse: 33.0121\n",
            "Epoch 183/300\n",
            "60/60 [==============================] - 0s 3ms/step - loss: 1.3187 - mse: 1.3187 - val_loss: 3.6328 - val_mse: 3.6328\n",
            "Epoch 184/300\n",
            "60/60 [==============================] - 0s 3ms/step - loss: 0.0075 - mse: 0.0075 - val_loss: 3.1982 - val_mse: 3.1982\n",
            "Epoch 185/300\n",
            "60/60 [==============================] - 0s 3ms/step - loss: 2.1675e-04 - mse: 2.1675e-04 - val_loss: 3.3092 - val_mse: 3.3092\n",
            "Epoch 186/300\n",
            "60/60 [==============================] - 0s 3ms/step - loss: 2.2760e-04 - mse: 2.2760e-04 - val_loss: 3.3214 - val_mse: 3.3214\n",
            "Epoch 187/300\n",
            "60/60 [==============================] - 0s 3ms/step - loss: 1.4007e-04 - mse: 1.4007e-04 - val_loss: 3.3318 - val_mse: 3.3318\n",
            "Epoch 188/300\n",
            "60/60 [==============================] - 0s 3ms/step - loss: 8.1890e-05 - mse: 8.1890e-05 - val_loss: 3.2096 - val_mse: 3.2096\n",
            "Epoch 189/300\n",
            "60/60 [==============================] - 0s 3ms/step - loss: 5.7197e-05 - mse: 5.7197e-05 - val_loss: 3.2973 - val_mse: 3.2973\n",
            "Epoch 190/300\n",
            "60/60 [==============================] - 0s 3ms/step - loss: 5.4975e-05 - mse: 5.4975e-05 - val_loss: 3.2582 - val_mse: 3.2582\n",
            "Epoch 191/300\n",
            "60/60 [==============================] - 0s 3ms/step - loss: 3.4921e-05 - mse: 3.4921e-05 - val_loss: 3.2082 - val_mse: 3.2082\n",
            "Epoch 192/300\n",
            "60/60 [==============================] - 0s 3ms/step - loss: 0.0011 - mse: 0.0011 - val_loss: 3.2704 - val_mse: 3.2704\n",
            "Epoch 193/300\n",
            "60/60 [==============================] - 0s 3ms/step - loss: 2.9748e-05 - mse: 2.9748e-05 - val_loss: 3.2144 - val_mse: 3.2144\n",
            "Epoch 194/300\n",
            "60/60 [==============================] - 0s 3ms/step - loss: 1.2336e-04 - mse: 1.2336e-04 - val_loss: 3.2423 - val_mse: 3.2423\n",
            "Epoch 195/300\n",
            "60/60 [==============================] - 0s 3ms/step - loss: 3.4512e-05 - mse: 3.4512e-05 - val_loss: 3.3126 - val_mse: 3.3126\n",
            "Epoch 196/300\n",
            "60/60 [==============================] - 0s 3ms/step - loss: 1.7526e-04 - mse: 1.7526e-04 - val_loss: 3.1773 - val_mse: 3.1773\n",
            "Epoch 197/300\n",
            "60/60 [==============================] - 0s 3ms/step - loss: 5.0759e-04 - mse: 5.0759e-04 - val_loss: 3.3618 - val_mse: 3.3618\n",
            "Epoch 198/300\n",
            "60/60 [==============================] - 0s 3ms/step - loss: 0.0013 - mse: 0.0013 - val_loss: 3.3219 - val_mse: 3.3219\n",
            "Epoch 199/300\n",
            "60/60 [==============================] - 0s 3ms/step - loss: 0.0034 - mse: 0.0034 - val_loss: 3.9558 - val_mse: 3.9558\n",
            "Epoch 200/300\n",
            "60/60 [==============================] - 0s 3ms/step - loss: 0.0095 - mse: 0.0095 - val_loss: 3.4222 - val_mse: 3.4222\n",
            "Epoch 201/300\n",
            "60/60 [==============================] - 0s 3ms/step - loss: 0.0016 - mse: 0.0016 - val_loss: 3.3209 - val_mse: 3.3209\n",
            "Epoch 202/300\n",
            "60/60 [==============================] - 0s 3ms/step - loss: 0.0020 - mse: 0.0020 - val_loss: 3.4367 - val_mse: 3.4367\n",
            "Epoch 203/300\n",
            "60/60 [==============================] - 0s 3ms/step - loss: 0.0014 - mse: 0.0014 - val_loss: 3.2638 - val_mse: 3.2638\n",
            "Epoch 204/300\n",
            "60/60 [==============================] - 0s 3ms/step - loss: 8.1794e-04 - mse: 8.1794e-04 - val_loss: 3.2342 - val_mse: 3.2342\n",
            "Epoch 205/300\n",
            "60/60 [==============================] - 0s 3ms/step - loss: 0.0019 - mse: 0.0019 - val_loss: 3.6781 - val_mse: 3.6781\n",
            "Epoch 206/300\n",
            "60/60 [==============================] - 0s 3ms/step - loss: 0.0066 - mse: 0.0066 - val_loss: 3.0494 - val_mse: 3.0494\n",
            "Epoch 207/300\n",
            "60/60 [==============================] - 0s 3ms/step - loss: 0.0095 - mse: 0.0095 - val_loss: 3.5721 - val_mse: 3.5721\n",
            "Epoch 208/300\n",
            "60/60 [==============================] - 0s 3ms/step - loss: 0.0041 - mse: 0.0041 - val_loss: 3.1514 - val_mse: 3.1514\n",
            "Epoch 209/300\n",
            "60/60 [==============================] - 0s 3ms/step - loss: 0.0016 - mse: 0.0016 - val_loss: 3.1841 - val_mse: 3.1841\n",
            "Epoch 210/300\n",
            "60/60 [==============================] - 0s 3ms/step - loss: 0.0011 - mse: 0.0011 - val_loss: 3.1405 - val_mse: 3.1405\n",
            "Epoch 211/300\n",
            "60/60 [==============================] - 0s 3ms/step - loss: 0.0048 - mse: 0.0048 - val_loss: 3.0375 - val_mse: 3.0375\n",
            "Epoch 212/300\n",
            "60/60 [==============================] - 0s 3ms/step - loss: 0.7182 - mse: 0.7182 - val_loss: 5.5617 - val_mse: 5.5617\n",
            "Epoch 213/300\n",
            "60/60 [==============================] - 0s 3ms/step - loss: 10.2813 - mse: 10.2813 - val_loss: 1.8172 - val_mse: 1.8172\n",
            "Epoch 214/300\n",
            "60/60 [==============================] - 0s 3ms/step - loss: 1.5556 - mse: 1.5556 - val_loss: 10.8396 - val_mse: 10.8396\n",
            "Epoch 215/300\n",
            "60/60 [==============================] - 0s 3ms/step - loss: 2.8776 - mse: 2.8776 - val_loss: 1.6161 - val_mse: 1.6161\n",
            "Epoch 216/300\n",
            "60/60 [==============================] - 0s 3ms/step - loss: 1.5989 - mse: 1.5989 - val_loss: 1.3009 - val_mse: 1.3009\n",
            "Epoch 217/300\n",
            "60/60 [==============================] - 0s 3ms/step - loss: 5.2708 - mse: 5.2708 - val_loss: 5.5691 - val_mse: 5.5691\n",
            "Epoch 218/300\n",
            "60/60 [==============================] - 0s 3ms/step - loss: 13.1581 - mse: 13.1581 - val_loss: 2.8414 - val_mse: 2.8414\n",
            "Epoch 219/300\n",
            "60/60 [==============================] - 0s 3ms/step - loss: 9.1622 - mse: 9.1622 - val_loss: 5.2405 - val_mse: 5.2405\n",
            "Epoch 220/300\n",
            "60/60 [==============================] - 0s 3ms/step - loss: 0.6451 - mse: 0.6451 - val_loss: 5.3751 - val_mse: 5.3751\n",
            "Epoch 221/300\n",
            "60/60 [==============================] - 0s 3ms/step - loss: 0.0877 - mse: 0.0877 - val_loss: 5.7870 - val_mse: 5.7870\n",
            "Epoch 222/300\n",
            "60/60 [==============================] - 0s 3ms/step - loss: 0.0281 - mse: 0.0281 - val_loss: 4.5770 - val_mse: 4.5770\n",
            "Epoch 223/300\n",
            "60/60 [==============================] - 0s 3ms/step - loss: 0.0561 - mse: 0.0561 - val_loss: 4.2734 - val_mse: 4.2734\n",
            "Epoch 224/300\n",
            "60/60 [==============================] - 0s 3ms/step - loss: 0.0432 - mse: 0.0432 - val_loss: 2.1547 - val_mse: 2.1547\n",
            "Epoch 225/300\n",
            "60/60 [==============================] - 0s 3ms/step - loss: 0.0482 - mse: 0.0482 - val_loss: 4.8970 - val_mse: 4.8970\n",
            "Epoch 226/300\n",
            "60/60 [==============================] - 0s 3ms/step - loss: 0.0303 - mse: 0.0303 - val_loss: 3.9385 - val_mse: 3.9385\n",
            "Epoch 227/300\n",
            "60/60 [==============================] - 0s 3ms/step - loss: 0.0071 - mse: 0.0071 - val_loss: 3.4135 - val_mse: 3.4135\n",
            "Epoch 228/300\n",
            "60/60 [==============================] - 0s 3ms/step - loss: 0.0070 - mse: 0.0070 - val_loss: 3.2862 - val_mse: 3.2862\n",
            "Epoch 229/300\n",
            "60/60 [==============================] - 0s 3ms/step - loss: 0.0016 - mse: 0.0016 - val_loss: 3.3297 - val_mse: 3.3297\n",
            "Epoch 230/300\n",
            "60/60 [==============================] - 0s 3ms/step - loss: 7.3737e-04 - mse: 7.3737e-04 - val_loss: 3.1790 - val_mse: 3.1790\n",
            "Epoch 231/300\n",
            "60/60 [==============================] - 0s 3ms/step - loss: 8.5273e-04 - mse: 8.5273e-04 - val_loss: 3.2603 - val_mse: 3.2603\n",
            "Epoch 232/300\n",
            "60/60 [==============================] - 0s 3ms/step - loss: 5.4426e-04 - mse: 5.4426e-04 - val_loss: 3.0500 - val_mse: 3.0500\n",
            "Epoch 233/300\n",
            "60/60 [==============================] - 0s 3ms/step - loss: 0.0068 - mse: 0.0068 - val_loss: 3.4945 - val_mse: 3.4945\n",
            "Epoch 234/300\n",
            "60/60 [==============================] - 0s 3ms/step - loss: 0.0015 - mse: 0.0015 - val_loss: 3.1779 - val_mse: 3.1779\n",
            "Epoch 235/300\n",
            "60/60 [==============================] - 0s 3ms/step - loss: 9.1238e-04 - mse: 9.1238e-04 - val_loss: 3.0446 - val_mse: 3.0446\n",
            "Epoch 236/300\n",
            "60/60 [==============================] - 0s 3ms/step - loss: 4.7483e-04 - mse: 4.7483e-04 - val_loss: 3.0533 - val_mse: 3.0533\n",
            "Epoch 237/300\n",
            "60/60 [==============================] - 0s 3ms/step - loss: 2.6542e-04 - mse: 2.6542e-04 - val_loss: 3.0882 - val_mse: 3.0882\n",
            "Epoch 238/300\n",
            "60/60 [==============================] - 0s 3ms/step - loss: 1.6300e-04 - mse: 1.6300e-04 - val_loss: 3.1020 - val_mse: 3.1020\n",
            "Epoch 239/300\n",
            "60/60 [==============================] - 0s 3ms/step - loss: 1.9690e-04 - mse: 1.9690e-04 - val_loss: 2.9536 - val_mse: 2.9536\n",
            "Epoch 240/300\n",
            "60/60 [==============================] - 0s 3ms/step - loss: 0.0032 - mse: 0.0032 - val_loss: 3.4354 - val_mse: 3.4354\n",
            "Epoch 241/300\n",
            "60/60 [==============================] - 0s 3ms/step - loss: 0.0360 - mse: 0.0360 - val_loss: 3.6209 - val_mse: 3.6209\n",
            "Epoch 242/300\n",
            "60/60 [==============================] - 0s 3ms/step - loss: 0.0180 - mse: 0.0180 - val_loss: 3.4235 - val_mse: 3.4235\n",
            "Epoch 243/300\n",
            "60/60 [==============================] - 0s 2ms/step - loss: 0.0043 - mse: 0.0043 - val_loss: 3.8591 - val_mse: 3.8591\n",
            "Epoch 244/300\n",
            "60/60 [==============================] - 0s 3ms/step - loss: 0.1385 - mse: 0.1385 - val_loss: 6.8902 - val_mse: 6.8902\n",
            "Epoch 245/300\n",
            "60/60 [==============================] - 0s 3ms/step - loss: 1.6514 - mse: 1.6514 - val_loss: 1.8190 - val_mse: 1.8190\n",
            "Epoch 246/300\n",
            "60/60 [==============================] - 0s 3ms/step - loss: 1.7622 - mse: 1.7622 - val_loss: 40.2012 - val_mse: 40.2012\n",
            "Epoch 247/300\n",
            "60/60 [==============================] - 0s 3ms/step - loss: 19.0461 - mse: 19.0461 - val_loss: 2.4837 - val_mse: 2.4837\n",
            "Epoch 248/300\n",
            "60/60 [==============================] - 0s 3ms/step - loss: 4.4571 - mse: 4.4571 - val_loss: 16.7413 - val_mse: 16.7413\n",
            "Epoch 249/300\n",
            "60/60 [==============================] - 0s 3ms/step - loss: 8.7386 - mse: 8.7386 - val_loss: 4.2025 - val_mse: 4.2025\n",
            "Epoch 250/300\n",
            "60/60 [==============================] - 0s 3ms/step - loss: 2.0065 - mse: 2.0065 - val_loss: 1.1709 - val_mse: 1.1709\n",
            "Epoch 251/300\n",
            "60/60 [==============================] - 0s 3ms/step - loss: 0.1131 - mse: 0.1131 - val_loss: 2.2449 - val_mse: 2.2449\n",
            "Epoch 252/300\n",
            "60/60 [==============================] - 0s 3ms/step - loss: 0.0175 - mse: 0.0175 - val_loss: 2.8269 - val_mse: 2.8269\n",
            "Epoch 253/300\n",
            "60/60 [==============================] - 0s 3ms/step - loss: 0.0116 - mse: 0.0116 - val_loss: 2.2352 - val_mse: 2.2352\n",
            "Epoch 254/300\n",
            "60/60 [==============================] - 0s 3ms/step - loss: 0.0178 - mse: 0.0178 - val_loss: 2.9480 - val_mse: 2.9480\n",
            "Epoch 255/300\n",
            "60/60 [==============================] - 0s 3ms/step - loss: 0.0091 - mse: 0.0091 - val_loss: 2.4591 - val_mse: 2.4591\n",
            "Epoch 256/300\n",
            "60/60 [==============================] - 0s 3ms/step - loss: 0.0066 - mse: 0.0066 - val_loss: 3.1064 - val_mse: 3.1064\n",
            "Epoch 257/300\n",
            "60/60 [==============================] - 0s 3ms/step - loss: 0.0112 - mse: 0.0112 - val_loss: 2.4430 - val_mse: 2.4430\n",
            "Epoch 258/300\n",
            "60/60 [==============================] - 0s 2ms/step - loss: 0.0077 - mse: 0.0077 - val_loss: 2.7253 - val_mse: 2.7253\n",
            "Epoch 259/300\n",
            "60/60 [==============================] - 0s 3ms/step - loss: 0.0048 - mse: 0.0048 - val_loss: 2.1223 - val_mse: 2.1223\n",
            "Epoch 260/300\n",
            "60/60 [==============================] - 0s 3ms/step - loss: 0.0119 - mse: 0.0119 - val_loss: 2.1867 - val_mse: 2.1867\n",
            "Epoch 261/300\n",
            "60/60 [==============================] - 0s 3ms/step - loss: 0.0059 - mse: 0.0059 - val_loss: 2.7750 - val_mse: 2.7750\n",
            "Epoch 262/300\n",
            "60/60 [==============================] - 0s 3ms/step - loss: 0.0014 - mse: 0.0014 - val_loss: 2.8894 - val_mse: 2.8894\n",
            "Epoch 263/300\n",
            "60/60 [==============================] - 0s 3ms/step - loss: 0.0066 - mse: 0.0066 - val_loss: 2.2838 - val_mse: 2.2838\n",
            "Epoch 264/300\n",
            "60/60 [==============================] - 0s 3ms/step - loss: 0.0030 - mse: 0.0030 - val_loss: 2.3704 - val_mse: 2.3704\n",
            "Epoch 265/300\n",
            "60/60 [==============================] - 0s 3ms/step - loss: 0.0012 - mse: 0.0012 - val_loss: 2.3559 - val_mse: 2.3559\n",
            "Epoch 266/300\n",
            "60/60 [==============================] - 0s 2ms/step - loss: 4.7027e-04 - mse: 4.7027e-04 - val_loss: 2.3681 - val_mse: 2.3681\n",
            "Epoch 267/300\n",
            "60/60 [==============================] - 0s 3ms/step - loss: 1.7728e-04 - mse: 1.7728e-04 - val_loss: 2.4423 - val_mse: 2.4423\n",
            "Epoch 268/300\n",
            "60/60 [==============================] - 0s 3ms/step - loss: 8.8674e-05 - mse: 8.8674e-05 - val_loss: 2.4687 - val_mse: 2.4687\n",
            "Epoch 269/300\n",
            "60/60 [==============================] - 0s 3ms/step - loss: 1.6849e-04 - mse: 1.6849e-04 - val_loss: 2.4306 - val_mse: 2.4306\n",
            "Epoch 270/300\n",
            "60/60 [==============================] - 0s 3ms/step - loss: 1.8010e-04 - mse: 1.8010e-04 - val_loss: 2.3931 - val_mse: 2.3931\n",
            "Epoch 271/300\n",
            "60/60 [==============================] - 0s 3ms/step - loss: 5.0285e-04 - mse: 5.0285e-04 - val_loss: 2.5118 - val_mse: 2.5118\n",
            "Epoch 272/300\n",
            "60/60 [==============================] - 0s 3ms/step - loss: 0.3050 - mse: 0.3050 - val_loss: 2.0378 - val_mse: 2.0378\n",
            "Epoch 273/300\n",
            "60/60 [==============================] - 0s 3ms/step - loss: 0.7640 - mse: 0.7640 - val_loss: 4.0539 - val_mse: 4.0539\n",
            "Epoch 274/300\n",
            "60/60 [==============================] - 0s 3ms/step - loss: 8.4094 - mse: 8.4094 - val_loss: 103.9987 - val_mse: 103.9987\n",
            "Epoch 275/300\n",
            "60/60 [==============================] - 0s 3ms/step - loss: 116.5879 - mse: 116.5879 - val_loss: 2.2577 - val_mse: 2.2577\n",
            "Epoch 276/300\n",
            "60/60 [==============================] - 0s 3ms/step - loss: 0.1481 - mse: 0.1481 - val_loss: 0.5564 - val_mse: 0.5564\n",
            "Epoch 277/300\n",
            "60/60 [==============================] - 0s 3ms/step - loss: 9.1178e-04 - mse: 9.1178e-04 - val_loss: 0.6861 - val_mse: 0.6861\n",
            "Epoch 278/300\n",
            "60/60 [==============================] - 0s 3ms/step - loss: 3.8040e-04 - mse: 3.8040e-04 - val_loss: 0.6365 - val_mse: 0.6365\n",
            "Epoch 279/300\n",
            "60/60 [==============================] - 0s 3ms/step - loss: 5.4859e-05 - mse: 5.4859e-05 - val_loss: 0.6814 - val_mse: 0.6814\n",
            "Epoch 280/300\n",
            "60/60 [==============================] - 0s 3ms/step - loss: 6.7403e-04 - mse: 6.7403e-04 - val_loss: 0.6379 - val_mse: 0.6379\n",
            "Epoch 281/300\n",
            "60/60 [==============================] - 0s 3ms/step - loss: 3.0928e-04 - mse: 3.0928e-04 - val_loss: 0.6509 - val_mse: 0.6509\n",
            "Epoch 282/300\n",
            "60/60 [==============================] - 0s 3ms/step - loss: 9.6379e-04 - mse: 9.6379e-04 - val_loss: 0.5882 - val_mse: 0.5882\n",
            "Epoch 283/300\n",
            "60/60 [==============================] - 0s 2ms/step - loss: 4.1823e-04 - mse: 4.1823e-04 - val_loss: 0.6247 - val_mse: 0.6247\n",
            "Epoch 284/300\n",
            "60/60 [==============================] - 0s 3ms/step - loss: 3.5436e-04 - mse: 3.5436e-04 - val_loss: 0.6564 - val_mse: 0.6564\n",
            "Epoch 285/300\n",
            "60/60 [==============================] - 0s 3ms/step - loss: 7.0906e-04 - mse: 7.0906e-04 - val_loss: 0.6301 - val_mse: 0.6301\n",
            "Epoch 286/300\n",
            "60/60 [==============================] - 0s 3ms/step - loss: 4.7752e-04 - mse: 4.7752e-04 - val_loss: 0.6249 - val_mse: 0.6249\n",
            "Epoch 287/300\n",
            "60/60 [==============================] - 0s 3ms/step - loss: 8.9348e-05 - mse: 8.9348e-05 - val_loss: 0.6323 - val_mse: 0.6323\n",
            "Epoch 288/300\n",
            "60/60 [==============================] - 0s 3ms/step - loss: 4.7563e-04 - mse: 4.7563e-04 - val_loss: 0.6569 - val_mse: 0.6569\n",
            "Epoch 289/300\n",
            "60/60 [==============================] - 0s 3ms/step - loss: 0.0011 - mse: 0.0011 - val_loss: 0.6128 - val_mse: 0.6128\n",
            "Epoch 290/300\n",
            "60/60 [==============================] - 0s 3ms/step - loss: 3.5862e-04 - mse: 3.5862e-04 - val_loss: 0.6584 - val_mse: 0.6584\n",
            "Epoch 291/300\n",
            "60/60 [==============================] - 0s 3ms/step - loss: 1.4583e-04 - mse: 1.4583e-04 - val_loss: 0.6437 - val_mse: 0.6437\n",
            "Epoch 292/300\n",
            "60/60 [==============================] - 0s 3ms/step - loss: 1.6273e-04 - mse: 1.6273e-04 - val_loss: 0.6354 - val_mse: 0.6354\n",
            "Epoch 293/300\n",
            "60/60 [==============================] - 0s 3ms/step - loss: 8.8444e-04 - mse: 8.8444e-04 - val_loss: 0.6114 - val_mse: 0.6114\n",
            "Epoch 294/300\n",
            "60/60 [==============================] - 0s 3ms/step - loss: 5.3179e-04 - mse: 5.3179e-04 - val_loss: 0.5109 - val_mse: 0.5109\n",
            "Epoch 295/300\n",
            "60/60 [==============================] - 0s 3ms/step - loss: 0.0043 - mse: 0.0043 - val_loss: 0.5856 - val_mse: 0.5856\n",
            "Epoch 296/300\n",
            "60/60 [==============================] - 0s 3ms/step - loss: 0.0016 - mse: 0.0016 - val_loss: 0.6613 - val_mse: 0.6613\n",
            "Epoch 297/300\n",
            "60/60 [==============================] - 0s 3ms/step - loss: 0.0011 - mse: 0.0011 - val_loss: 0.6636 - val_mse: 0.6636\n",
            "Epoch 298/300\n",
            "60/60 [==============================] - 0s 3ms/step - loss: 1.9138e-04 - mse: 1.9138e-04 - val_loss: 0.6194 - val_mse: 0.6194\n",
            "Epoch 299/300\n",
            "60/60 [==============================] - 0s 3ms/step - loss: 1.7869e-04 - mse: 1.7869e-04 - val_loss: 0.6838 - val_mse: 0.6838\n",
            "Epoch 300/300\n",
            "60/60 [==============================] - 0s 3ms/step - loss: 0.0012 - mse: 0.0012 - val_loss: 0.6116 - val_mse: 0.6116\n"
          ],
          "name": "stdout"
        },
        {
          "output_type": "execute_result",
          "data": {
            "text/plain": [
              "<tensorflow.python.keras.callbacks.History at 0x7fcaae072f10>"
            ]
          },
          "metadata": {
            "tags": []
          },
          "execution_count": 13
        }
      ]
    },
    {
      "cell_type": "markdown",
      "metadata": {
        "id": "belShY3GGH9A"
      },
      "source": [
        "-> 훈련을 할 때 x의 입력 데이터가 2개이므로 list 형태를 취해야한다.\n",
        "\n",
        "  [x1_train, x2_train] 그리고  Validation 역시 list 형태로 입력하는 것을 확인해야 한다. 이제 평가 예측을 하고 모델을 판단해보자."
      ]
    },
    {
      "cell_type": "code",
      "metadata": {
        "colab": {
          "base_uri": "https://localhost:8080/"
        },
        "id": "rCImt7sk_T4J",
        "outputId": "85d73a23-7f04-4808-8183-97c4a2cee1b8"
      },
      "source": [
        "# 4. 평가 예측\n",
        "mse = model.evaluate([x1_test, x2_test], y_test, batch_size=1)  ## 모델 평가\n",
        "print(\"mse : \", mse)\n",
        "\n",
        "y_predict = model.predict([x1_test, x2_test])  ## 평가 시에도 마찬가지로 x의 입력 데이터가 2개이므로 list 형태를 취했다.\n",
        "\n",
        "for i in range(len(y_predict)):\n",
        "  print(y_test[i], y_predict[i])"
      ],
      "execution_count": 14,
      "outputs": [
        {
          "output_type": "stream",
          "text": [
            "20/20 [==============================] - 0s 1ms/step - loss: 11.5143 - mse: 11.5143\n",
            "mse :  [11.514313697814941, 11.514313697814941]\n",
            "[581] [582.6362]\n",
            "[582] [583.78735]\n",
            "[583] [584.93585]\n",
            "[584] [586.08435]\n",
            "[585] [587.233]\n",
            "[586] [588.3814]\n",
            "[587] [589.5337]\n",
            "[588] [590.6893]\n",
            "[589] [591.84467]\n",
            "[590] [593.00006]\n",
            "[591] [594.1532]\n",
            "[592] [595.3055]\n",
            "[593] [596.4578]\n",
            "[594] [597.6751]\n",
            "[595] [598.9414]\n",
            "[596] [600.2076]\n",
            "[597] [601.47394]\n",
            "[598] [602.7402]\n",
            "[599] [604.0066]\n",
            "[600] [605.2728]\n"
          ],
          "name": "stdout"
        }
      ]
    },
    {
      "cell_type": "markdown",
      "metadata": {
        "id": "TMEO2Um1IuLV"
      },
      "source": [
        "## 5.2. Merge Layer"
      ]
    },
    {
      "cell_type": "markdown",
      "metadata": {
        "id": "7HSb61YXI0Un"
      },
      "source": [
        "concatenate은 단순히 모델 2개를 엮어주는 역할을 한다. 다시 말하면 노드들이 단순하게 더하기 형태로 합쳐지는 것이다.\n",
        "\n",
        "concatenate()함수 외에도 다양한 merge layer들이 있는데, 이를 살펴보자!"
      ]
    },
    {
      "cell_type": "markdown",
      "metadata": {
        "id": "injpnvJUJe3F"
      },
      "source": [
        "### 5.2.1. Add()\n"
      ]
    },
    {
      "cell_type": "markdown",
      "metadata": {
        "id": "zM9sv7bFJjKw"
      },
      "source": [
        "\n",
        "\n",
        "*   **keras.layers.Add()**\n",
        "\n",
        ": layers끼리의 단순한 더하기이다. 동일한 모양의 텐서 목록을 입력으로 사용하고 하나의 텐서(같은 모양)를 반환한다.\n"
      ]
    },
    {
      "cell_type": "code",
      "metadata": {
        "id": "2sf4y67i_TzI"
      },
      "source": [
        "# Add() 함수\n",
        "import keras\n",
        "\n",
        "input1 = keras.layers.Input(shape=(16,))\n",
        "x1 = keras.layers.Dense(8, activation='relu')(input1)\n",
        "input2 = keras.layers.Input(shape=(32,))\n",
        "x2 = keras.layers.Dense(8, activation='relu')(input2)\n",
        "\n",
        "added = keras.layers.Add()([x1, x2])\n",
        "\n",
        "out = keras.layers.Dense(4)(added)\n",
        "model = keras.models.Model(inputs=[input1, input2], outputs=out)"
      ],
      "execution_count": 15,
      "outputs": []
    },
    {
      "cell_type": "markdown",
      "metadata": {
        "id": "qUSSmwokKcN3"
      },
      "source": [
        "### 5.2.2. Subtract()"
      ]
    },
    {
      "cell_type": "markdown",
      "metadata": {
        "id": "0Q9YTpd6L17m"
      },
      "source": [
        "*   **keras.layers.Subtract()**\n",
        "\n",
        ": layers끼리의 단순한 뺄셈이다. 동일한 모양의 크기 2인 텐서 목록을 입력으로 사용하고, 동일한 모양의 단일 텐서(입력[0] - 입력[1])을 반환한다."
      ]
    },
    {
      "cell_type": "code",
      "metadata": {
        "id": "g3wPlqrZL1XG"
      },
      "source": [
        "# Subtract() 함수\n",
        "import keras\n",
        "\n",
        "input1 = keras.layers.Input(shape=(16,))\n",
        "x1 = keras.layers.Dense(8, activation='relu')(input1)\n",
        "input2 = keras.layers.Input(shape=(32,))\n",
        "x2 = keras.layers.Dense(8, activation='relu')(input2)\n",
        "\n",
        "subtracted = keras.layers.Subtract()([x1, x2])\n",
        "\n",
        "out = keras.layers.Dense(4)(subtracted)\n",
        "model = keras.models.Model(inputs=[input1, input2], outputs=out)"
      ],
      "execution_count": 16,
      "outputs": []
    },
    {
      "cell_type": "markdown",
      "metadata": {
        "id": "QbD9fx6nKolS"
      },
      "source": [
        "### 5.2.3. Multiply()"
      ]
    },
    {
      "cell_type": "markdown",
      "metadata": {
        "id": "LkM4rp1QMtfy"
      },
      "source": [
        "*   **keras.layers.Multiply()**\n",
        "\n",
        ": layers끼리의 입력 목록을 (요소 별로)곱하는 레이어이다. 동일한 모양의 텐서 목록을 입력으로 사용하고 하나의 텐서를 반환한다."
      ]
    },
    {
      "cell_type": "markdown",
      "metadata": {
        "id": "92j-rLjcKv3s"
      },
      "source": [
        "### 5.2.4. Average()"
      ]
    },
    {
      "cell_type": "markdown",
      "metadata": {
        "id": "fTNacpVxNONv"
      },
      "source": [
        "*   **keras.layers.Average()**\n",
        "\n",
        ": 인풋 리스트의 평균을 내는 레이어이다. 동일한 모양의 텐서 목록을 입력으로 사용하고 하나의 텐서를 반환한다."
      ]
    },
    {
      "cell_type": "markdown",
      "metadata": {
        "id": "_Rlu7_u-Ky4I"
      },
      "source": [
        "### 5.2.5. Maximum()"
      ]
    },
    {
      "cell_type": "markdown",
      "metadata": {
        "id": "wIIKnFTONqZL"
      },
      "source": [
        "*   **keras.layers.Maximum()**\n",
        "\n",
        ": 입력 목록의 최대(요소 별로)를 계산하는 레이어이다. 동일한 모양의 텐서 목록을 입력으로 사용하고 하나의 텐서를 반환한다."
      ]
    },
    {
      "cell_type": "markdown",
      "metadata": {
        "id": "O0ScKQ7RK3ng"
      },
      "source": [
        "### 5.2.6. Minimum()"
      ]
    },
    {
      "cell_type": "markdown",
      "metadata": {
        "id": "2Rv1AIVwN963"
      },
      "source": [
        "*   **keras.layers.Minimum()**\n",
        "\n",
        ": 입력 목록의 최소(요소 별로)를 계산하는 레이어이다. 동일한 모양의 텐서 목록을 입력으로 사용하고 하나의 텐서를 반환한다."
      ]
    },
    {
      "cell_type": "markdown",
      "metadata": {
        "id": "MGCYSGbdK6iX"
      },
      "source": [
        "### 5.2.7. Concatenate()"
      ]
    },
    {
      "cell_type": "markdown",
      "metadata": {
        "id": "H1EciqxzOG0j"
      },
      "source": [
        "*   **keras.layers.Concatenate(axis=-1)**\n",
        "\n",
        ": 입력 목록을 연결하는 계층이다. 연결 축을 제외한 동일한 모양의 텐서 목록을 입력으로 사용하고 모든 입력의 연결인 단일 텐서를 반환한다. \n",
        "\n",
        "소문자 concatenate과 사용할 때 비교하면서 사용해야 한다. 디폴트는 axis=-1이다."
      ]
    },
    {
      "cell_type": "markdown",
      "metadata": {
        "id": "5EQvCfl1K9dl"
      },
      "source": [
        "### 5.2.8. Dot()"
      ]
    },
    {
      "cell_type": "markdown",
      "metadata": {
        "id": "-U8vMvPDOakP"
      },
      "source": [
        "*   **keras.layers.Dot(axes, normalize=False)**\n",
        "\n",
        ": 두 텐서에서 샘플 간 내적을 계산하는 레이어이다. 2개의 텐서 a와 b의 모양(batch_size, n)목록에 적용되는 경우 출력은 모양의 텐서(batch_size,1)가 된다. \n",
        "\n",
        "여기서 각 항목 i는 a [i]와 b [j] 사이의 내적이다. "
      ]
    },
    {
      "cell_type": "markdown",
      "metadata": {
        "id": "dlxyC2RiLM50"
      },
      "source": [
        "### 5.2.9. add()"
      ]
    },
    {
      "cell_type": "markdown",
      "metadata": {
        "id": "70vrno3xO6Rm"
      },
      "source": [
        "*   **keras.layers.add(inputs)**\n",
        "\n",
        ": Add와 같은 결과를 나타내지만, 함수형 add는 사용법이 약간 다르다.  "
      ]
    },
    {
      "cell_type": "code",
      "metadata": {
        "id": "um1TEX6ZPGM_"
      },
      "source": [
        "# add() 함수\n",
        "import keras\n",
        "\n",
        "input1 = keras.layers.Input(shape=(16,))\n",
        "x1 = keras.layers.Dense(8, activation='relu')(input1)\n",
        "input2 = keras.layers.Input(shape=(32,))\n",
        "x2 = keras.layers.Dense(8, activation='relu')(input2)\n",
        "\n",
        "added = keras.layers.add([x1, x2])\n",
        "\n",
        "out = keras.layers.Dense(4)(added)\n",
        "model = keras.models.Model(inputs=[input1, input2], outputs=out)"
      ],
      "execution_count": 17,
      "outputs": []
    },
    {
      "cell_type": "markdown",
      "metadata": {
        "id": "ift8EE-YPbxM"
      },
      "source": [
        "\n",
        "\n",
        "  *   Add의 경우\n",
        "\n",
        "  : added = keras.layers.Add()([x1, x2]) 이렇게 사용하지만,\n",
        "\n",
        "  *   add의 경우는 \n",
        "\n",
        "  : added = keras.layers.add([x1, x2]) 이렇게 사용한다.\n",
        "\n",
        "  \n",
        "\n"
      ]
    },
    {
      "cell_type": "markdown",
      "metadata": {
        "id": "lYN2u5NrLXEg"
      },
      "source": [
        "### 5.2.10. subtract()"
      ]
    },
    {
      "cell_type": "markdown",
      "metadata": {
        "id": "CX4hUPG9P2-d"
      },
      "source": [
        "*   **keras.layers.subtract(inputs)**\n",
        "\n",
        ": Subtract와 동일한 사용법이고 ()를 주의하면 된다. 레이어 간 노드의 빼기이다. "
      ]
    },
    {
      "cell_type": "code",
      "metadata": {
        "id": "625G2FZpQBgI"
      },
      "source": [
        "# subtract() 함수\n",
        "import keras\n",
        "\n",
        "input1 = keras.layers.Input(shape=(16,))\n",
        "x1 = keras.layers.Dense(8, activation='relu')(input1)\n",
        "input2 = keras.layers.Input(shape=(32,))\n",
        "x2 = keras.layers.Dense(8, activation='relu')(input2)\n",
        "\n",
        "subtracted = keras.layers.subtract([x1, x2])\n",
        "\n",
        "out = keras.layers.Dense(4)(subtracted)\n",
        "model = keras.models.Model(inputs=[input1, input2], outputs=out)"
      ],
      "execution_count": 18,
      "outputs": []
    },
    {
      "cell_type": "markdown",
      "metadata": {
        "id": "N57tyO6XLaDG"
      },
      "source": [
        "### 5.2.11. multiply()"
      ]
    },
    {
      "cell_type": "markdown",
      "metadata": {
        "id": "Xfg7g6dTQJJA"
      },
      "source": [
        "*   **keras.layers.multiply(inputs)**\n",
        "\n",
        ": Multiply와 동일한 사용법이고 ()를 주의하면 된다. Input tensor가 최소 2개 이상이다."
      ]
    },
    {
      "cell_type": "markdown",
      "metadata": {
        "id": "fQwdP3QNLclH"
      },
      "source": [
        "### 5.2.12. average()"
      ]
    },
    {
      "cell_type": "markdown",
      "metadata": {
        "id": "_ZiPbfz5QT8E"
      },
      "source": [
        "*   **keras.layers.average(inputs)**\n",
        "\n",
        ": Average와 동일한 사용법이고 ()를 주의하면 된다. Input tensor가 최소 2개 이상이다."
      ]
    },
    {
      "cell_type": "markdown",
      "metadata": {
        "id": "LJYOqQXCLgpF"
      },
      "source": [
        "### 5.2.13. maximum()"
      ]
    },
    {
      "cell_type": "markdown",
      "metadata": {
        "id": "Y6MP57hUQbjm"
      },
      "source": [
        "*   **keras.layers.maximum(inputs)**\n",
        "\n",
        ": Maximum과 동일한 사용법이고 ()를 주의하면 된다. Input tensor가 최소 2개 이상이다. 입력한 텐서 중 최소값 텐서를 리턴한다."
      ]
    },
    {
      "cell_type": "markdown",
      "metadata": {
        "id": "bHuEEutXLjxh"
      },
      "source": [
        "### 5.2.14. minimum()"
      ]
    },
    {
      "cell_type": "markdown",
      "metadata": {
        "id": "Du8oqqLuQlQ0"
      },
      "source": [
        "*   **keras.layers.minimum(inputs)**\n",
        "\n",
        ": Minimum과 동일한 사용법이고 ()를 주의하면 된다. Input tensor가 최소 2개 이상이다. 입력한 텐서 중 최소값 텐서를 리턴한다."
      ]
    },
    {
      "cell_type": "markdown",
      "metadata": {
        "id": "wwble95mLobz"
      },
      "source": [
        "### 5.2.15. concatenate()"
      ]
    },
    {
      "cell_type": "markdown",
      "metadata": {
        "id": "5l7eBfCUQtev"
      },
      "source": [
        "*   **keras.layers.concatenate(inputs, axis=-1)**\n",
        "\n",
        ": Concatenate과 비교하여 잘 사용하면 되고, 디폴트 axis는 -1이다."
      ]
    },
    {
      "cell_type": "markdown",
      "metadata": {
        "id": "2Zet1kOOLru0"
      },
      "source": [
        "### 5.2.16. dot()"
      ]
    },
    {
      "cell_type": "markdown",
      "metadata": {
        "id": "HNYmSQnBQ77u"
      },
      "source": [
        "*   **keras.layers.dot(inputs, axes, normalize=False)**\n",
        "\n",
        ": inputs는 2개 이상의 텐서이다. normalize()는 L2 정규화의 여부이다. 디폴트는 False이다. Dot과 동일한 방법이고 ()를 주의하여 사용하면 된다."
      ]
    }
  ]
}